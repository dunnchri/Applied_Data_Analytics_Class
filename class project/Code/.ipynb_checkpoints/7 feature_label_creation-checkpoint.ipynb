{
 "cells": [
  {
   "cell_type": "markdown",
   "metadata": {},
   "source": [
    "# Creating features and labels\n",
    "-----\n"
   ]
  },
  {
   "cell_type": "markdown",
   "metadata": {},
   "source": [
    "## Setup\n",
    "---\n",
    "The initial packages including [`scikit-learn`](http://scikit-learn.org) to fit modeling. Note the original tutorial uses `psycopg2` to connect to the database, but we instead use `sqlalchemy`."
   ]
  },
  {
   "cell_type": "code",
   "execution_count": null,
   "metadata": {},
   "outputs": [],
   "source": [
    "%pylab inline\n",
    "import pandas as pd\n",
    "pd.set_option('display.max_columns', 300)\n",
    "\n",
    "#import psycopg2\n",
    "from sqlalchemy import create_engine"
   ]
  },
  {
   "cell_type": "markdown",
   "metadata": {},
   "source": [
    "### Connect to the database"
   ]
  },
  {
   "cell_type": "code",
   "execution_count": null,
   "metadata": {
    "collapsed": true
   },
   "outputs": [],
   "source": [
    "db_name = \"appliedda\"\n",
    "hostname = \"10.10.2.10\"\n",
    "schema = 'M3'\n",
    "pgsql_engine = create_engine( \"postgresql://10.10.2.10/appliedda\" )"
   ]
  },
  {
   "cell_type": "code",
   "execution_count": null,
   "metadata": {},
   "outputs": [],
   "source": [
    "sql_string = \" SELECT *\"\n",
    "sql_string +=\" FROM M3.prisonerwages\"\n",
    "\n",
    "full_data = pd.read_sql(sql_string, con = pgsql_engine)    \n",
    "full_data.head()"
   ]
  },
  {
   "cell_type": "code",
   "execution_count": null,
   "metadata": {},
   "outputs": [],
   "source": [
    "#print out all the columns for easy copying later\n",
    "for i in full_data.columns.sort_values():\n",
    "   print i+\",\""
   ]
  },
  {
   "cell_type": "markdown",
   "metadata": {},
   "source": [
    "# Variable descriptions\n",
    "\n",
    "\n",
    "# Date variables\n",
    "- ## current admission date variables\n",
    "    curadm_date,curadmdt,curadmmo,curadmyr,\n",
    "- ## admission type at reception\n",
    "    admtypo,\n",
    "- ## actual release date to supervision variables\n",
    "    actmsrdt,actmsrmo,actmsryr,\n",
    "- ## work release date variables\n",
    "    cccadmdt,cccadmmo,cccadmyr,\n",
    "- ## actual discharge date variables\n",
    "    actdis_date, actdisdt,actdismo,actdisyr,\n",
    "- ## Exit date variables\n",
    "    exit_date,exitda,exitmo,exitqtr,exityr,\n",
    "- ## Exit type\n",
    "    exittyp,\n",
    "\n",
    "\n",
    "\n",
    "# Demographic and descriptive variables\n",
    "- ## demographic\n",
    "    citzshp,vetf,kids,marstat,educlvl,race,sex,\n",
    "- ## birth info\n",
    "    birth_date,birth_year,birthpl,birthyr,\n",
    "- ## Hashed name variables\n",
    "    name_first_hash,name_full_hash,name_last_hash,name_middle_hash,ssn_hash,\n",
    "- ## gang variables\n",
    "    gang,gangact,\n",
    "- ## drug flag variables\n",
    "    drugalcf,drugampf,drugcocf,drugherf,drugmarf,drugothf,drugpcpf,drugunkf,\n",
    "- ## Illinois DOC number\n",
    "    docnbr,ildoc_docnbr,\n",
    "- ## sexual offense variables\n",
    "    sexoff,sexreg,\n",
    "- ## employment prospects at release\n",
    "    empplanf,\n",
    "- ## possibly last known address zipcode variables\n",
    "    zip5,zipcode\n",
    "- ## Did they have any wages in the quarter prior to admission\n",
    "    priorwage,\n",
    "# Crime variables\n",
    "- ## total jail time in days\n",
    "    jailtime,\n",
    "- ## holding class and holding offense code\n",
    "    hclass,hofnscd,\n",
    "- ## last security level\n",
    "    lstsclvl,\n",
    "- ## releasing institution\n",
    "    relinst,\n",
    "\n",
    "# Wage variables\n",
    "- ## actual wage variables\n",
    "    totalwageq0,totalwageq1,totalwageq2,totalwageq3,\n",
    "    totalwageq4,totalwageq5,totalwageq6,totalwageq7,\n",
    "    wageq0,wageq1,wageq2,wageq3,wageq4,wageq5,wageq6,wageq7,\n",
    "- ## number of employers\n",
    "    counteinq0,counteinq1,counteinq2,counteinq3,counteinq4,counteinq5,\n",
    "    counteinq6,counteinq7,\n",
    "- ## percent of wage from primary employer\n",
    "    pctwageq0,pctwageq1,pctwageq2,pctwageq3,pctwageq4,pctwageq5,pctwageq6,pctwageq7,\n",
    "- ## Did they have any wage in the quarter\n",
    "    anywageq0,anywageq1,anywageq2,anywageq3,anywageq4,anywageq5,anywageq6,anywageq7,\n",
    "- ## quarter and year for possible employment\n",
    "    q0,q1,q2,q3,q4,q5,q6,q7,\n",
    "    yearplus2,end,start,\n",
    "\n",
    "# Employer variables\n",
    "- ## Auxiliary naics code for most prevelant job\n",
    "    auxiliary_naicsq0,auxiliary_naicsq1,auxiliary_naicsq2,auxiliary_naicsq3,\n",
    "    auxiliary_naicsq4,auxiliary_naicsq5,auxiliary_naicsq6,auxiliary_naicsq7,\n",
    "- ## census block of employeer\n",
    "    census_blockq0,census_blockq1,census_blockq2,census_blockq3,\n",
    "    census_blockq4,census_blockq5,census_blockq6,census_blockq7,\n",
    "    census_idq0,census_idq1,census_idq2,census_idq3,census_idq4,\n",
    "    census_idq5,census_idq6,census_idq7,\n",
    "- ## EIN of employer\n",
    "    einq0,einq1,einq2,einq3,einq4,einq5,einq6,einq7,\n",
    "- ## Employer  legal and trade name\n",
    "    name_legalq0,name_legalq1,name_legalq2,name_legalq3,\n",
    "    name_legalq4,name_legalq5,name_legalq6,name_legalq7,\n",
    "    name_tradeq0,name_tradeq1,name_tradeq2,name_tradeq3,\n",
    "    name_tradeq4,name_tradeq5,name_tradeq6,name_tradeq7,"
   ]
  },
  {
   "cell_type": "markdown",
   "metadata": {},
   "source": [
    "## Creating label variables\n",
    "The variable `employed` is a binary variable indicating whether or not an individual was ever employed. That is, did the individual have postive wages in any quarter?\n",
    "\n",
    "Note that the current line creating `employed` produces an equivalent result to the original, commented-out line. Feel free to verify. The point of doing this was to learn a little more about the methods avaiable to `DataFrames` and `DataSeries`, and perhaps to reduce the width of the code. The logic of the code is to see whether or not an individual's maximum wage is positive.\n",
    "\n",
    "To walk through what the syntax of this lines does, first, filter selects the subset of columns in `full_data` that meet the criterion in the parentheses, a regular expression matching all variable names beginning with \"wageq\" and ending with any numeric character (i.e., `wageq0` through `wageq1`). Next, the method `max(axis = 1)` evaluates the maximum value of the quarterly wages for each individual (`NaN` values are ignored by default). Finally, `apply(lambda x: (x > 0))` applies the `lambda` function by index: is the maximum wage for a given individual positive? (Side note: you could reverse the order of the `max()` and `apply()` methods here with slight modification and achieve the same result, however this is _extremely_ slow compared to the other two ways.)"
   ]
  },
  {
   "cell_type": "code",
   "execution_count": null,
   "metadata": {},
   "outputs": [],
   "source": [
    "#full_data['employed'] = ((full_data['wageq0']>0) | (full_data['wageq1']>0) | (full_data['wageq2']>0) | (full_data['wageq3']>0) | (full_data['wageq4']>0) | (full_data['wageq5']>0) | (full_data['wageq6']>0) | (full_data['wageq7']>0))\n",
    "full_data['employed'] = full_data.filter(regex = \"^wageq[0-9]$\").max(axis = 1).apply(lambda x: (x > 0))\n",
    "full_data['employed']= 1-full_data['employed']\n",
    "full_data['employed'].value_counts()"
   ]
  },
  {
   "cell_type": "code",
   "execution_count": null,
   "metadata": {},
   "outputs": [],
   "source": [
    "full_data['below_poverty_on_avg']=1-(full_data.filter(regex = \"^wageq[0-9]$\").sum(axis = 1)-full_data.filter(regex = \"^baselinepovertyq[0-9]$\").sum(axis = 1)>0)\n",
    "print(full_data['below_poverty_on_avg'].value_counts(normalize=True))"
   ]
  },
  {
   "cell_type": "markdown",
   "metadata": {},
   "source": [
    "## Creating feature variables"
   ]
  },
  {
   "cell_type": "code",
   "execution_count": null,
   "metadata": {},
   "outputs": [],
   "source": [
    "full_data['prisontime']=full_data['prisontime'].round().astype('object')\n",
    "full_data['prisontime'].value_counts()"
   ]
  },
  {
   "cell_type": "code",
   "execution_count": null,
   "metadata": {},
   "outputs": [],
   "source": [
    "full_data['HasKids']=(full_data['kids']>0)-0\n",
    "print(full_data['HasKids'].value_counts(normalize=True))"
   ]
  },
  {
   "cell_type": "code",
   "execution_count": null,
   "metadata": {},
   "outputs": [],
   "source": [
    "DrugVars=['drugalcf','drugampf','drugcocf','drugherf','drugmarf','drugothf','drugpcpf','drugunkf']\n",
    "for i in DrugVars:\n",
    "    full_data[i]=full_data[i].replace(['X','F',NaN],['Y','Y','N'])\n",
    "    print(i)\n",
    "    print(full_data[i].value_counts(normalize=True))\n"
   ]
  },
  {
   "cell_type": "code",
   "execution_count": null,
   "metadata": {},
   "outputs": [],
   "source": [
    "full_data['anypriorwage']=(full_data['priorwage']>0)-0\n",
    "print(full_data['anypriorwage'].value_counts(normalize=True))"
   ]
  },
  {
   "cell_type": "code",
   "execution_count": null,
   "metadata": {},
   "outputs": [],
   "source": [
    "full_data['vetf'].value_counts(normalize=True)"
   ]
  },
  {
   "cell_type": "code",
   "execution_count": null,
   "metadata": {},
   "outputs": [],
   "source": [
    "full_data['birthdecade']=(full_data['birth_year']-(full_data['birth_year']%10)).astype('object')\n",
    "full_data[['birthdecade','birth_year']].head(25)"
   ]
  },
  {
   "cell_type": "code",
   "execution_count": null,
   "metadata": {},
   "outputs": [],
   "source": [
    "full_data['birthdecade1950orprior']=(full_data['birth_year']<1960)-0\n",
    "print(full_data['birthdecade1950orprior'].value_counts(normalize=True))"
   ]
  },
  {
   "cell_type": "code",
   "execution_count": null,
   "metadata": {},
   "outputs": [],
   "source": [
    "full_data['release_year']=full_data['exityr'].astype('object')\n",
    "full_data['release_year'].value_counts()"
   ]
  },
  {
   "cell_type": "code",
   "execution_count": null,
   "metadata": {},
   "outputs": [],
   "source": [
    "full_data['active_gang_member']=(full_data['gangact']=='A')-0\n",
    "full_data['active_gang_member'].value_counts()"
   ]
  },
  {
   "cell_type": "code",
   "execution_count": null,
   "metadata": {},
   "outputs": [],
   "source": [
    "#earned time binary vars\n",
    "full_data['meritorious_good_time']=(full_data['gttyp15']>0)-0\n",
    "full_data['education_in_prison']=(full_data['gttyp17']>0)-0\n",
    "full_data['substanceabuse_treatment']=(full_data['gttyp18']>0)-0\n",
    "full_data['working_in_prison']=(full_data['gttyp19']>0)-0\n",
    "good_time_vars=['meritorious_good_time','education_in_prison','substanceabuse_treatment','working_in_prison']\n",
    "\n",
    "for i in good_time_vars:\n",
    "    print(i)\n",
    "    print(full_data[i].value_counts(normalize=True))"
   ]
  },
  {
   "cell_type": "markdown",
   "metadata": {},
   "source": [
    "What do we want our features to be? Let's make one list containing the variables from which we will derive our features."
   ]
  },
  {
   "cell_type": "code",
   "execution_count": null,
   "metadata": {},
   "outputs": [],
   "source": [
    "feat_source = ['active_gang_member','birthdecade','birthdecade1950orprior','release_year', 'race', 'sex','hclass','sexoff','sexreg','lstsclvl','HasKids','prisontime','anypriorwage']\n",
    "feat_source+=good_time_vars+DrugVars\n",
    "feat_source"
   ]
  },
  {
   "cell_type": "markdown",
   "metadata": {},
   "source": [
    "## Cleaning\n",
    "\n",
    "No matter how tight our SQL game is, there will always be data aberrations to be cleaned. First, let's identify missing values for the features of interest."
   ]
  },
  {
   "cell_type": "code",
   "execution_count": null,
   "metadata": {},
   "outputs": [],
   "source": [
    "isnan_rows = full_data.filter(items=feat_source).isnull().any(axis=1) # Find the rows where there are NaNs\n",
    "full_data[isnan_rows].shape"
   ]
  },
  {
   "cell_type": "code",
   "execution_count": null,
   "metadata": {},
   "outputs": [],
   "source": [
    "full_data[isnan_rows].head()"
   ]
  },
  {
   "cell_type": "code",
   "execution_count": null,
   "metadata": {},
   "outputs": [],
   "source": [
    "nrows_full = full_data.shape[0]\n",
    "nrows_full_isnan = full_data[isnan_rows].shape[0]\n",
    "print('%of rows with NaNs {}'.format(float(nrows_full_isnan)/nrows_full*100))"
   ]
  },
  {
   "cell_type": "markdown",
   "metadata": {},
   "source": [
    "Now, let's remove the offending records from `full_data`."
   ]
  },
  {
   "cell_type": "code",
   "execution_count": null,
   "metadata": {
    "collapsed": true
   },
   "outputs": [],
   "source": [
    "full_data = full_data[~isnan_rows]"
   ]
  },
  {
   "cell_type": "code",
   "execution_count": null,
   "metadata": {
    "collapsed": true
   },
   "outputs": [],
   "source": [
    "full_data.to_sql( \"cleaned_data\", con = pgsql_engine, schema = 'm3' )"
   ]
  }
 ],
 "metadata": {
  "anaconda-cloud": {},
  "kernelspec": {
   "display_name": "Python 2",
   "language": "python",
   "name": "python2"
  },
  "language_info": {
   "codemirror_mode": {
    "name": "ipython",
    "version": 2
   },
   "file_extension": ".py",
   "mimetype": "text/x-python",
   "name": "python",
   "nbconvert_exporter": "python",
   "pygments_lexer": "ipython2",
   "version": "2.7.12"
  }
 },
 "nbformat": 4,
 "nbformat_minor": 1
}
