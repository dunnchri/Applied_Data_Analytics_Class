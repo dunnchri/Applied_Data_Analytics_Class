{
 "cells": [
  {
   "cell_type": "code",
   "execution_count": null,
   "metadata": {},
   "outputs": [],
   "source": [
    "# imports\n",
    "import datetime\n",
    "import psycopg2\n",
    "import psycopg2.extras\n",
    "import datetime\n",
    "print( \"psycopg2 imports completed at \" + str( datetime.datetime.now() ) )"
   ]
  },
  {
   "cell_type": "code",
   "execution_count": null,
   "metadata": {},
   "outputs": [],
   "source": [
    "# Connect...\n",
    "pgsql_connection = None\n",
    "\n",
    "# set up connection properties\n",
    "db_host = \"10.10.2.10\"\n",
    "db_database = \"appliedda\"\n",
    "\n",
    "# and connect.\n",
    "pgsql_connection = psycopg2.connect( host = db_host, database = db_database )\n",
    "\n",
    "print( \"psycopg2 connection to host: \" + db_host + \", database: \" + db_database + \" completed at \" + str( datetime.datetime.now() ) )"
   ]
  },
  {
   "cell_type": "code",
   "execution_count": null,
   "metadata": {},
   "outputs": [],
   "source": [
    "# ...and create cursor.\n",
    "pgsql_cursor = None\n",
    "\n",
    "# results come back as a list of columns:\n",
    "#pgsql_cursor = pgsql_connection.cursor()\n",
    "\n",
    "# results come back as a dictionary where values are mapped to column names (preferred)\n",
    "pgsql_cursor = pgsql_connection.cursor( cursor_factory = psycopg2.extras.DictCursor )\n",
    "\n",
    "print( \"psycopg2 cursor created at \" + str( datetime.datetime.now() ) )"
   ]
  },
  {
   "cell_type": "code",
   "execution_count": null,
   "metadata": {},
   "outputs": [],
   "source": [
    "# ...and create second cursor.\n",
    "pgsql_cursor2 = None\n",
    "\n",
    "# results come back as a list of columns:\n",
    "#pgsql_cursor = pgsql_connection.cursor()\n",
    "\n",
    "# results come back as a dictionary where values are mapped to column names (preferred)\n",
    "pgsql_cursor2 = pgsql_connection.cursor( cursor_factory = psycopg2.extras.DictCursor )\n",
    "\n",
    "print( \"psycopg2 cursor2 created at \" + str( datetime.datetime.now() ) )"
   ]
  },
  {
   "cell_type": "code",
   "execution_count": null,
   "metadata": {},
   "outputs": [],
   "source": [
    "# Single row query\n",
    "sql_string = \"\"\n",
    "result_row = None\n",
    "\n",
    "# SQL\n",
    "sql_string = \"SELECT COUNT( * ) AS row_count FROM m3.wagebyqtr_forcohort;\"\n",
    "\n",
    "# execute it.\n",
    "pgsql_cursor.execute( sql_string )\n",
    "\n",
    "# fetch first (and only) row, then output the count\n",
    "first_row = pgsql_cursor.fetchone()\n",
    "print( \"row_count = \" + str( first_row[ \"row_count\" ] ) )"
   ]
  },
  {
   "cell_type": "code",
   "execution_count": null,
   "metadata": {
    "scrolled": true
   },
   "outputs": [],
   "source": [
    "print(\"Current time \" + str(datetime.datetime.now().time()))\n",
    "# Single row query\n",
    "sql_string = \"\"\n",
    "result_row = None\n",
    "ssn_hash = \"\"\n",
    "work_sql= \"\"\n",
    "\n",
    "# SQL\n",
    "sql_string = \"SELECT *\"\n",
    "sql_string += \" FROM m3.wagebyqtr_forcohort\"\n",
    "sql_string += \" WHERE einq0 IS null\"\n",
    "sql_string += \" AND ssn_hash IS NOT null\"\n",
    "#sql_string += \" LIMIT 200\"\n",
    "sql_string += \";\"\n",
    "\n",
    "# execute it.\n",
    "pgsql_cursor.execute( sql_string )\n",
    "\n",
    "#loop over rows\n",
    "row_counter = 0\n",
    "for result_row in pgsql_cursor:\n",
    "    \n",
    "    row_counter += 1\n",
    "    #get ssn\n",
    "    ssn_hash = result_row[\"ssn_hash\"]\n",
    "    #print( \"ssn hash = \" + str( ssn_hash) )\n",
    "    #print( \"result row = \" + str( result_row) )\n",
    "    #check for none\n",
    "    if ssn_hash is not None:\n",
    "        #create list of quarters for person\n",
    "        q0 = result_row[\"q0\"]\n",
    "        q1 = result_row[\"q1\"]\n",
    "        q2 = result_row[\"q2\"]\n",
    "        q3 = result_row[\"q3\"]\n",
    "        q4 = result_row[\"q4\"]\n",
    "        q5 = result_row[\"q5\"]\n",
    "        q6 = result_row[\"q6\"]\n",
    "        q7 = result_row[\"q7\"]\n",
    "        quarter_list = [q0, q1, q2, q3, q4, q5, q6, q7]\n",
    "        \n",
    "        #loop over quarters\n",
    "        quarter_counter = 0\n",
    "        for current_quarter in quarter_list:\n",
    "            \n",
    "            #for each quarter parse into year and quarter\n",
    "            current_quarter_string = str(current_quarter)\n",
    "            result_row_year = current_quarter_string[:4]\n",
    "            #print (result_row_year)\n",
    "            result_row_qnum = current_quarter_string[-1:]\n",
    "            #print (result_row_qnum)\n",
    "            \n",
    "            #build select statement to find wage for ssn, year, and quarter in table tempein\n",
    "            #tempein has one row per ssn, year, quarter, including total wage and ein with the highest wage in qtr\n",
    "            single_quarter_query = \"SELECT * FROM m3.tempein WHERE ssn = '\" + ssn_hash + \"' AND quarter = \" + result_row_qnum + \" AND year = \" + result_row_year + \";\"\n",
    "            pgsql_cursor2.execute(single_quarter_query)\n",
    "            quarter_result = pgsql_cursor2.fetchone()\n",
    "            if quarter_result is not None:\n",
    "                \n",
    "                \n",
    "                ein = quarter_result[1]\n",
    "                wage = quarter_result[4]\n",
    "                countein = quarter_result[5]\n",
    "                totalwage = quarter_result[6]\n",
    "                pctwage = quarter_result[7]\n",
    "                auxiliary_naics = quarter_result[8]\n",
    "                single_quarter_update = \"UPDATE m3.wagebyqtr_forcohort\"\n",
    "                single_quarter_update += \" SET einq\" + str(quarter_counter) + \"= '\" + str(ein) + \"'\"\n",
    "                if wage is not None:\n",
    "                    single_quarter_update += \", wageq\" + str(quarter_counter) + \"=\" + str(wage) + \"\"\n",
    "                if countein is not None:\n",
    "                    single_quarter_update += \", counteinq\" + str(quarter_counter) + \"=\" + str(countein) + \"\"\n",
    "                if totalwage is not None:\n",
    "                    single_quarter_update += \", totalwageq\" + str(quarter_counter) + \"=\" + str(totalwage) + \"\"\n",
    "                if pctwage is not None:\n",
    "                    single_quarter_update += \", pctwageq\" + str(quarter_counter) + \"=\" + str(pctwage) + \"\"\n",
    "                if auxiliary_naics is not None:\n",
    "                    single_quarter_update += \", auxiliary_naicsq\" + str(quarter_counter) + \"=\" + str(auxiliary_naics) + \"\"\n",
    "                single_quarter_update += \" WHERE ssn_hash = '\" + ssn_hash + \"';\"\n",
    "                #print( str(single_quarter_update))\n",
    "                #print( str(quarter_counter))\n",
    "                \n",
    "                # execute it.\n",
    "                pgsql_cursor2.execute( single_quarter_update )\n",
    "                \n",
    "            quarter_counter+=1\n",
    "            if quarter_counter == 8:\n",
    "                quarter_counter== 0\n",
    "                \n",
    "            #print( str(quarter_result))\n",
    "        \n",
    "        #added commit to the end of each person loop\n",
    "        pgsql_connection.commit()\n",
    "        #print(\"Committed\")\n",
    "    if ( (row_counter % 1000) == 0):\n",
    "        print(\"Processed \" + str(row_counter))\n",
    "    if ( (row_counter % 5000) == 0):\n",
    "        print(\"Current time \" + str(datetime.datetime.now().time()))\n",
    "\n",
    "\n",
    "\n",
    "#print of the row counter\n",
    "#print( \"row_counter = \" + str( row_counter) )\n",
    "\n",
    "pgsql_connection.commit()\n",
    "print(\"Committed-done\")"
   ]
  },
  {
   "cell_type": "code",
   "execution_count": null,
   "metadata": {
    "collapsed": true
   },
   "outputs": [],
   "source": [
    "#pgsql_connection.rollback()"
   ]
  },
  {
   "cell_type": "code",
   "execution_count": null,
   "metadata": {
    "collapsed": true
   },
   "outputs": [],
   "source": [
    "#pgsql_connection.commit()"
   ]
  },
  {
   "cell_type": "code",
   "execution_count": null,
   "metadata": {
    "collapsed": true
   },
   "outputs": [],
   "source": []
  }
 ],
 "metadata": {
  "kernelspec": {
   "display_name": "Python 2",
   "language": "python",
   "name": "python2"
  },
  "language_info": {
   "codemirror_mode": {
    "name": "ipython",
    "version": 2
   },
   "file_extension": ".py",
   "mimetype": "text/x-python",
   "name": "python",
   "nbconvert_exporter": "python",
   "pygments_lexer": "ipython2",
   "version": "2.7.12"
  }
 },
 "nbformat": 4,
 "nbformat_minor": 2
}
