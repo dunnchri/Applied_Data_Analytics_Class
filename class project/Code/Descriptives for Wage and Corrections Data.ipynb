{
 "cells": [
  {
   "cell_type": "code",
   "execution_count": null,
   "metadata": {
    "scrolled": true
   },
   "outputs": [],
   "source": [
    "%pylab inline\n",
    "import pandas as pd\n",
    "#import psycopg2\n",
    "import sklearn\n",
    "import seaborn as sns\n",
    "import matplotlib\n",
    "from sklearn.metrics import precision_recall_curve, auc\n",
    "from sklearn.metrics import accuracy_score, precision_score, recall_score\n",
    "from sklearn.ensemble import (RandomForestClassifier, ExtraTreesClassifier, GradientBoostingClassifier, \n",
    "AdaBoostClassifier)\n",
    "from sklearn.linear_model import LogisticRegression, SGDClassifier\n",
    "from sklearn.naive_bayes import GaussianNB\n",
    "from sklearn.tree import DecisionTreeClassifier\n",
    "from sqlalchemy import create_engine\n",
    "sns.set_style(\"white\")"
   ]
  },
  {
   "cell_type": "code",
   "execution_count": null,
   "metadata": {
    "collapsed": true
   },
   "outputs": [],
   "source": [
    "db_name = \"appliedda\"\n",
    "hostname = \"10.10.2.10\"\n",
    "schema = 'M3'"
   ]
  },
  {
   "cell_type": "code",
   "execution_count": null,
   "metadata": {
    "collapsed": true
   },
   "outputs": [],
   "source": [
    "pgsql_engine = create_engine( \"postgresql://10.10.2.10/appliedda\" )"
   ]
  },
  {
   "cell_type": "code",
   "execution_count": null,
   "metadata": {
    "collapsed": true
   },
   "outputs": [],
   "source": [
    "full_data = pd.read_sql(\"SELECT * FROM M3.prisonerwages\", con = pgsql_engine) "
   ]
  },
  {
   "cell_type": "code",
   "execution_count": null,
   "metadata": {},
   "outputs": [],
   "source": [
    "#print out all the columns for easy copying later\n",
    "for i in full_data.columns:\n",
    "   print \"'\"+i+\"',\""
   ]
  },
  {
   "cell_type": "code",
   "execution_count": null,
   "metadata": {
    "collapsed": true
   },
   "outputs": [],
   "source": [
    "pd.set_option('display.max_columns', 300)"
   ]
  },
  {
   "cell_type": "code",
   "execution_count": null,
   "metadata": {
    "collapsed": true
   },
   "outputs": [],
   "source": [
    "#pd.options.display.max_seq_items = 20000"
   ]
  },
  {
   "cell_type": "code",
   "execution_count": null,
   "metadata": {
    "collapsed": true
   },
   "outputs": [],
   "source": [
    "#from notebook.services.config import ConfigManager\n",
    "#cm = ConfigManager().update('notebook', {'limit output': 100000})"
   ]
  },
  {
   "cell_type": "code",
   "execution_count": null,
   "metadata": {
    "collapsed": true
   },
   "outputs": [],
   "source": [
    "#f = open(\"fileofoutput.txt\", \"w\")"
   ]
  },
  {
   "cell_type": "code",
   "execution_count": null,
   "metadata": {
    "collapsed": true
   },
   "outputs": [],
   "source": [
    "#print >>f , full_data.isnull().sum()"
   ]
  },
  {
   "cell_type": "code",
   "execution_count": null,
   "metadata": {
    "collapsed": true
   },
   "outputs": [],
   "source": [
    "#f.close()"
   ]
  },
  {
   "cell_type": "code",
   "execution_count": null,
   "metadata": {
    "collapsed": true
   },
   "outputs": [],
   "source": [
    "#Create birth decade variable\n",
    "full_data['birthdecade']=(full_data['birth_year']-(full_data['birth_year']%10)).astype('object')\n",
    "#full_data[['birthdecade','birth_year']].head(25)"
   ]
  },
  {
   "cell_type": "code",
   "execution_count": null,
   "metadata": {},
   "outputs": [],
   "source": [
    "#Dummy variable for any employment in 8 quarters\n",
    "full_data['employed'] = full_data.filter(regex = \"^wageq[0-8]$\").max(axis = 1).apply(lambda x: (x > 0))\n",
    "full_data['employed'].value_counts(normalize=True)"
   ]
  },
  {
   "cell_type": "code",
   "execution_count": null,
   "metadata": {},
   "outputs": [],
   "source": [
    "#Dummy variable for any employment in q0\n",
    "full_data['employed0'] = full_data.filter(regex = \"wageq0\").max(axis = 1).apply(lambda x: (x > 0))\n",
    "full_data['employed0'].value_counts(normalize=True)"
   ]
  },
  {
   "cell_type": "code",
   "execution_count": null,
   "metadata": {},
   "outputs": [],
   "source": [
    "#Dummy variable for any employment in q1\n",
    "full_data['employed1'] = full_data.filter(regex = \"wageq1\").max(axis = 1).apply(lambda x: (x > 0))\n",
    "full_data['employed1'].value_counts(normalize=True)"
   ]
  },
  {
   "cell_type": "code",
   "execution_count": null,
   "metadata": {},
   "outputs": [],
   "source": [
    "#Dummy variable for any employment in q2\n",
    "full_data['employed2'] = full_data.filter(regex = \"wageq2\").max(axis = 1).apply(lambda x: (x > 0))\n",
    "full_data['employed2'].value_counts(normalize=True)"
   ]
  },
  {
   "cell_type": "code",
   "execution_count": null,
   "metadata": {},
   "outputs": [],
   "source": [
    "#Dummy variable for any employment in q3\n",
    "full_data['employed3'] = full_data.filter(regex = \"wageq3\").max(axis = 1).apply(lambda x: (x > 0))\n",
    "full_data['employed3'].value_counts(normalize=True)"
   ]
  },
  {
   "cell_type": "code",
   "execution_count": null,
   "metadata": {},
   "outputs": [],
   "source": [
    "#Dummy variable for any employment in q4\n",
    "full_data['employed4'] = full_data.filter(regex = \"wageq4\").max(axis = 1).apply(lambda x: (x > 0))\n",
    "full_data['employed4'].value_counts(normalize=True)"
   ]
  },
  {
   "cell_type": "code",
   "execution_count": null,
   "metadata": {},
   "outputs": [],
   "source": [
    "#Dummy variable for any employment in q5\n",
    "full_data['employed5'] = full_data.filter(regex = \"wageq5\").max(axis = 1).apply(lambda x: (x > 0))\n",
    "full_data['employed5'].value_counts(normalize=True)"
   ]
  },
  {
   "cell_type": "code",
   "execution_count": null,
   "metadata": {},
   "outputs": [],
   "source": [
    "#Dummy variable for any employment in q6\n",
    "full_data['employed6'] = full_data.filter(regex = \"wageq6\").max(axis = 1).apply(lambda x: (x > 0))\n",
    "full_data['employed6'].value_counts(normalize=True)"
   ]
  },
  {
   "cell_type": "code",
   "execution_count": null,
   "metadata": {},
   "outputs": [],
   "source": [
    "#Dummy variable for any employment in q7\n",
    "full_data['employed7'] = full_data.filter(regex = \"wageq7\").max(axis = 1).apply(lambda x: (x > 0))\n",
    "full_data['employed7'].value_counts(normalize=True)"
   ]
  },
  {
   "cell_type": "code",
   "execution_count": null,
   "metadata": {
    "collapsed": true
   },
   "outputs": [],
   "source": [
    "#Number of quarters employed\n",
    "li = ['employed0', 'employed1', 'employed2', 'employed3', 'employed4', 'employed5', 'employed6', 'employed7']\n",
    "full_data['numemplqtr'] = full_data[li].sum(axis=1)"
   ]
  },
  {
   "cell_type": "code",
   "execution_count": null,
   "metadata": {},
   "outputs": [],
   "source": [
    "full_data['numemplqtr'].value_counts(ascending=True, normalize=True)"
   ]
  },
  {
   "cell_type": "code",
   "execution_count": null,
   "metadata": {},
   "outputs": [],
   "source": [
    "full_data[['wageq0', 'wageq1', 'wageq2','wageq3', 'wageq4', 'wageq5', 'wageq6', 'wageq7', 'employed', 'numemplqtr']].describe(percentiles=[.45, .5, .55])"
   ]
  },
  {
   "cell_type": "code",
   "execution_count": null,
   "metadata": {
    "collapsed": true,
    "scrolled": true
   },
   "outputs": [],
   "source": [
    "full_data.head(n=50)"
   ]
  },
  {
   "cell_type": "code",
   "execution_count": null,
   "metadata": {
    "collapsed": true
   },
   "outputs": [],
   "source": [
    "#First employment quarter\n",
    "def begemp(row):\n",
    "    if row['employed0'] == 1:\n",
    "        return 0\n",
    "    elif row['employed1'] == 1:\n",
    "        return 1\n",
    "    elif row['employed2'] == 1:\n",
    "        return 2\n",
    "    elif row['employed3'] == 1:\n",
    "        return 3\n",
    "    elif row['employed4'] == 1:\n",
    "        return 4\n",
    "    elif row['employed5'] == 1:\n",
    "        return 5\n",
    "    elif row['employed6'] == 1:\n",
    "        return 6\n",
    "    elif row['employed7'] == 1:\n",
    "        return 7\n",
    "    else:\n",
    "        return np.nan \n"
   ]
  },
  {
   "cell_type": "code",
   "execution_count": null,
   "metadata": {
    "collapsed": true,
    "scrolled": true
   },
   "outputs": [],
   "source": [
    "full_data['firstemp'] = full_data.apply(lambda row: begemp (row), axis = 1)"
   ]
  },
  {
   "cell_type": "code",
   "execution_count": null,
   "metadata": {},
   "outputs": [],
   "source": [
    "full_data['firstemp'].value_counts(ascending=True, dropna=False)"
   ]
  },
  {
   "cell_type": "code",
   "execution_count": null,
   "metadata": {},
   "outputs": [],
   "source": [
    "full_data['firstemp'].value_counts(ascending=True, normalize= True, dropna=False)"
   ]
  },
  {
   "cell_type": "code",
   "execution_count": null,
   "metadata": {
    "collapsed": true
   },
   "outputs": [],
   "source": [
    "#create variable indicating whether 8 quarter salary is below poverty line for 1 person\n",
    "full_data['below_poverty_on_avg']=1-(full_data.filter(regex = \"^wageq[0-9]$\").sum(axis = 1)-full_data.filter(regex = \"^baselinepovertyq[0-9]$\").sum(axis = 1)>0)"
   ]
  },
  {
   "cell_type": "code",
   "execution_count": null,
   "metadata": {},
   "outputs": [],
   "source": [
    "full_data['below_poverty_on_avg'].value_counts(ascending=True, dropna=False)"
   ]
  },
  {
   "cell_type": "code",
   "execution_count": null,
   "metadata": {
    "collapsed": true
   },
   "outputs": [],
   "source": [
    "#Dummy variables for below poverty line in each quarter\n",
    "full_data['belpov0']=1-(full_data.filter(regex = \"wageq0\").sum(axis = 1)-full_data.filter(regex = \"baselinepovertyq0\").sum(axis = 1)>0)\n",
    "full_data['belpov1']=1-(full_data.filter(regex = \"wageq1\").sum(axis = 1)-full_data.filter(regex = \"baselinepovertyq1\").sum(axis = 1)>0)\n",
    "full_data['belpov2']=1-(full_data.filter(regex = \"wageq2\").sum(axis = 1)-full_data.filter(regex = \"baselinepovertyq2\").sum(axis = 1)>0)\n",
    "full_data['belpov3']=1-(full_data.filter(regex = \"wageq3\").sum(axis = 1)-full_data.filter(regex = \"baselinepovertyq3\").sum(axis = 1)>0)\n",
    "full_data['belpov4']=1-(full_data.filter(regex = \"wageq4\").sum(axis = 1)-full_data.filter(regex = \"baselinepovertyq4\").sum(axis = 1)>0)\n",
    "full_data['belpov5']=1-(full_data.filter(regex = \"wageq5\").sum(axis = 1)-full_data.filter(regex = \"baselinepovertyq5\").sum(axis = 1)>0)\n",
    "full_data['belpov6']=1-(full_data.filter(regex = \"wageq6\").sum(axis = 1)-full_data.filter(regex = \"baselinepovertyq6\").sum(axis = 1)>0)\n",
    "full_data['belpov7']=1-(full_data.filter(regex = \"wageq7\").sum(axis = 1)-full_data.filter(regex = \"baselinepovertyq7\").sum(axis = 1)>0)\n",
    "\n",
    "#full_data['belpov0'].value_counts(normalize=True)"
   ]
  },
  {
   "cell_type": "code",
   "execution_count": null,
   "metadata": {
    "scrolled": false
   },
   "outputs": [],
   "source": [
    "full_data[['belpov0','belpov1','belpov2','belpov3','belpov4','belpov5','belpov6','belpov7']].head(n=10)"
   ]
  },
  {
   "cell_type": "code",
   "execution_count": null,
   "metadata": {},
   "outputs": [],
   "source": [
    "full_data[['wageq0', 'belpov0', 'baselinepovertyq0']].head(n=25)"
   ]
  },
  {
   "cell_type": "code",
   "execution_count": null,
   "metadata": {
    "collapsed": true
   },
   "outputs": [],
   "source": [
    "#Number of quarters below poverty\n",
    "li = ['belpov0', 'belpov1', 'belpov2', 'belpov3', 'belpov4', 'belpov5', 'belpov6', 'belpov7']\n",
    "full_data['numbelpovqtr'] = full_data[li].sum(axis=1)"
   ]
  },
  {
   "cell_type": "code",
   "execution_count": null,
   "metadata": {},
   "outputs": [],
   "source": [
    "full_data['numbelpovqtr'].value_counts(ascending=True, normalize=True)"
   ]
  },
  {
   "cell_type": "code",
   "execution_count": null,
   "metadata": {
    "collapsed": true
   },
   "outputs": [],
   "source": [
    "#create concatenated string of employment pattern\n",
    "for i in range(0, 8):\n",
    "    full_data['q'+str(i)+'s'] = (full_data['employed'+str(i)] - 0).astype('object')"
   ]
  },
  {
   "cell_type": "code",
   "execution_count": null,
   "metadata": {
    "collapsed": true
   },
   "outputs": [],
   "source": [
    "#check results of a quarter\n",
    "full_data['q2s'].value_counts(ascending=True, dropna=False).astype(str)"
   ]
  },
  {
   "cell_type": "code",
   "execution_count": null,
   "metadata": {
    "collapsed": true
   },
   "outputs": [],
   "source": [
    "full_data['emp_pattern'] = full_data['q0s'].astype(str) + full_data['q1s'].astype(str) + full_data['q2s'].astype(str) + full_data['q3s'].astype(str) + full_data['q4s'].astype(str) + full_data['q5s'].astype(str) + full_data['q6s'].astype(str) + full_data['q7s'].astype(str)"
   ]
  },
  {
   "cell_type": "code",
   "execution_count": null,
   "metadata": {
    "collapsed": true,
    "scrolled": true
   },
   "outputs": [],
   "source": [
    "full_data['emp_pattern'].value_counts(ascending=True, normalize=False)"
   ]
  },
  {
   "cell_type": "code",
   "execution_count": null,
   "metadata": {
    "collapsed": true
   },
   "outputs": [],
   "source": [
    "#create concatenated string of below pov pattern\n",
    "for i in range(0, 8):\n",
    "    full_data['pq'+str(i)+'s'] = (full_data['belpov'+str(i)] - 0).astype('object')"
   ]
  },
  {
   "cell_type": "code",
   "execution_count": null,
   "metadata": {},
   "outputs": [],
   "source": [
    "#check results of a quarter\n",
    "full_data['pq2s'].value_counts(ascending=True, dropna=False).astype(str)"
   ]
  },
  {
   "cell_type": "code",
   "execution_count": null,
   "metadata": {
    "collapsed": true
   },
   "outputs": [],
   "source": [
    "full_data['pov_pattern'] = full_data['pq0s'].astype(str) + full_data['pq1s'].astype(str) + full_data['pq2s'].astype(str) + full_data['pq3s'].astype(str) + full_data['pq4s'].astype(str) + full_data['pq5s'].astype(str) + full_data['pq6s'].astype(str) + full_data['pq7s'].astype(str)"
   ]
  },
  {
   "cell_type": "code",
   "execution_count": null,
   "metadata": {
    "collapsed": true,
    "scrolled": false
   },
   "outputs": [],
   "source": [
    "full_data['pov_pattern'].value_counts(ascending=False, normalize=False)"
   ]
  },
  {
   "cell_type": "code",
   "execution_count": null,
   "metadata": {
    "collapsed": true
   },
   "outputs": [],
   "source": [
    "#Above poverty quarter\n",
    "def begabvpov(row):\n",
    "    if row['belpov0'] == 0:\n",
    "        return 0\n",
    "    elif row['belpov1'] == 0:\n",
    "        return 1\n",
    "    elif row['belpov2'] == 0:\n",
    "        return 2\n",
    "    elif row['belpov3'] == 0:\n",
    "        return 3\n",
    "    elif row['belpov4'] == 0:\n",
    "        return 4\n",
    "    elif row['belpov5'] == 0:\n",
    "        return 5\n",
    "    elif row['belpov6'] == 0:\n",
    "        return 6\n",
    "    elif row['belpov7'] == 0:\n",
    "        return 7\n",
    "    else:\n",
    "        return np.nan "
   ]
  },
  {
   "cell_type": "code",
   "execution_count": null,
   "metadata": {
    "collapsed": true
   },
   "outputs": [],
   "source": [
    "full_data['firstabvpov'] = full_data.apply(lambda row: begabvpov (row), axis = 1)"
   ]
  },
  {
   "cell_type": "code",
   "execution_count": null,
   "metadata": {},
   "outputs": [],
   "source": [
    "full_data['firstabvpov'].value_counts(ascending=True, dropna=False)"
   ]
  },
  {
   "cell_type": "code",
   "execution_count": null,
   "metadata": {},
   "outputs": [],
   "source": [
    "full_data['firstabvpov'].value_counts(ascending=True, normalize=True, dropna=False)"
   ]
  },
  {
   "cell_type": "code",
   "execution_count": null,
   "metadata": {
    "collapsed": true
   },
   "outputs": [],
   "source": [
    "# create time served variable, rounded to nearest year\n",
    "full_data['prisontime']=full_data['prisontime'].round().astype('object')"
   ]
  },
  {
   "cell_type": "code",
   "execution_count": null,
   "metadata": {
    "collapsed": true
   },
   "outputs": [],
   "source": [
    "#create flag for whether employed in quarter prior to admission\n",
    "full_data['anypriorwage']=(full_data['priorwage']>0)-0"
   ]
  },
  {
   "cell_type": "code",
   "execution_count": null,
   "metadata": {
    "collapsed": true
   },
   "outputs": [],
   "source": [
    "#earned time binary vars\n",
    "full_data['meritorious_good_time']=(full_data['gttyp15']>0)-0\n",
    "full_data['education_in_prison']=(full_data['gttyp17']>0)-0\n",
    "full_data['substanceabuse_treatment']=(full_data['gttyp18']>0)-0\n",
    "full_data['working_in_prison']=(full_data['gttyp19']>0)-0\n",
    "good_time_vars=['meritorious_good_time','education_in_prison','substanceabuse_treatment','working_in_prison']\n",
    "\n",
    "for i in good_time_vars:\n",
    "    print(i)\n",
    "    print(full_data[i].value_counts(normalize=True))"
   ]
  },
  {
   "cell_type": "code",
   "execution_count": null,
   "metadata": {
    "collapsed": true
   },
   "outputs": [],
   "source": [
    "full_data[['birthdecade',\n",
    "'drugalcf',\n",
    "'drugcocf',\n",
    "'drugampf',\n",
    "'drugmarf',\n",
    "'drugherf',\n",
    "'drugpcpf',\n",
    "'drugothf',\n",
    "'drugunkf',\n",
    "'sexreg',\n",
    "'sexoff',\n",
    "'gangact',\n",
    "'marstat',\n",
    "'exittyp',\n",
    "'hclass',\n",
    "'lstsclvl',\n",
    "'admtypo',\n",
    "'sex',\n",
    "'race',\n",
    "'exityr',\n",
    "'kids',\n",
    "'curadmyr',\n",
    "'prisontime', \n",
    "'anypriorwage', \n",
    "'meritorious_good_time',\n",
    "'education_in_prison',\n",
    "'substanceabuse_treatment',\n",
    "'working_in_prison']].dtypes"
   ]
  },
  {
   "cell_type": "code",
   "execution_count": null,
   "metadata": {
    "collapsed": true
   },
   "outputs": [],
   "source": [
    "descriptives=['birthdecade',\n",
    "'drugalcf',\n",
    "'drugcocf',\n",
    "'drugampf',\n",
    "'drugmarf',\n",
    "'drugherf',\n",
    "'drugpcpf',\n",
    "'drugothf',\n",
    "'drugunkf',\n",
    "'sexreg',\n",
    "'sexoff',\n",
    "'gangact',\n",
    "'marstat',\n",
    "'exittyp',\n",
    "'hclass',\n",
    "'lstsclvl',\n",
    "'admtypo',\n",
    "'sex',\n",
    "'race',\n",
    "'exityr',\n",
    "'kids',\n",
    "'curadmyr',\n",
    "'prisontime', \n",
    "'anypriorwage', \n",
    "'meritorious_good_time',\n",
    "'education_in_prison',\n",
    "'substanceabuse_treatment',\n",
    "'working_in_prison']\n",
    "for i in descriptives:\n",
    "    print(i)\n",
    "    print(full_data[i].groupby(full_data['employed']).value_counts(normalize=False))"
   ]
  },
  {
   "cell_type": "code",
   "execution_count": null,
   "metadata": {
    "collapsed": true
   },
   "outputs": [],
   "source": [
    "descriptives=['birthdecade',\n",
    "'drugalcf',\n",
    "'drugcocf',\n",
    "'drugampf',\n",
    "'drugmarf',\n",
    "'drugherf',\n",
    "'drugpcpf',\n",
    "'drugothf',\n",
    "'drugunkf',\n",
    "'sexreg',\n",
    "'sexoff',\n",
    "'gangact',\n",
    "'marstat',\n",
    "'exittyp',\n",
    "'hclass',\n",
    "'lstsclvl',\n",
    "'admtypo',\n",
    "'sex',\n",
    "'race',\n",
    "'exityr',\n",
    "'kids',\n",
    "'curadmyr',\n",
    "'prisontime', \n",
    "'anypriorwage', \n",
    "'meritorious_good_time',\n",
    "'education_in_prison',\n",
    "'substanceabuse_treatment',\n",
    "'working_in_prison']\n",
    "for i in descriptives:\n",
    "    print(i)\n",
    "    print(full_data[i].groupby(full_data['below_poverty_on_avg']).value_counts(normalize=False))"
   ]
  },
  {
   "cell_type": "code",
   "execution_count": null,
   "metadata": {
    "collapsed": true
   },
   "outputs": [],
   "source": [
    "DrugVars=['drugalcf','drugampf','drugcocf','drugherf','drugmarf','drugothf','drugpcpf','drugunkf']"
   ]
  },
  {
   "cell_type": "code",
   "execution_count": null,
   "metadata": {
    "collapsed": true
   },
   "outputs": [],
   "source": [
    "for i in DrugVars:\n",
    "    full_data[i]=full_data[i].replace(['X','F',NaN],['Y','Y','N'])\n",
    "    print(i)\n",
    "    print(full_data[i].value_counts(normalize=True))"
   ]
  },
  {
   "cell_type": "code",
   "execution_count": null,
   "metadata": {
    "collapsed": true
   },
   "outputs": [],
   "source": [
    "full_data.to_sql(\"prisonerwagesdesc2\", con = pgsql_engine, schema = 'm3')"
   ]
  },
  {
   "cell_type": "code",
   "execution_count": null,
   "metadata": {
    "collapsed": true
   },
   "outputs": [],
   "source": [
    "##STOP"
   ]
  },
  {
   "cell_type": "code",
   "execution_count": null,
   "metadata": {
    "collapsed": true
   },
   "outputs": [],
   "source": [
    "###START HERE\n",
    "varlist = ['drugalcf','drugampf']\n",
    "for i in varlist:\n",
    "    desdf = pd.value_counts(full_data.i).reset_index()\n",
    "    desdf.columns = ['varvalue', 'frequency']\n",
    "    desdf['variable'] = i\n",
    "    print(desdf)"
   ]
  },
  {
   "cell_type": "code",
   "execution_count": null,
   "metadata": {
    "collapsed": true
   },
   "outputs": [],
   "source": [
    "full_data.groupby('drugalcf')['employed'].count()"
   ]
  },
  {
   "cell_type": "code",
   "execution_count": null,
   "metadata": {
    "collapsed": true
   },
   "outputs": [],
   "source": [
    "DrugVars=['drugalcf','drugampf','drugcocf','drugherf','drugmarf','drugothf','drugpcpf','drugunkf']\n",
    "for i in DrugVars:\n",
    "    full_data[i]=full_data[i].replace(['X','F',NaN],['Y','Y','N'])\n",
    "    print(i)\n",
    "    print(full_data[i].value_counts(normalize=True))"
   ]
  },
  {
   "cell_type": "code",
   "execution_count": null,
   "metadata": {
    "collapsed": true
   },
   "outputs": [],
   "source": [
    "pd.crosstab(full_data['drugalcf'], full_data['drugcocf'])"
   ]
  },
  {
   "cell_type": "code",
   "execution_count": null,
   "metadata": {
    "collapsed": true
   },
   "outputs": [],
   "source": [
    "#subset of those who are employed\n",
    "employ_data = full_data.loc[full_data['numemplqtr'] > 0]\n",
    "employ_data.head()"
   ]
  },
  {
   "cell_type": "code",
   "execution_count": null,
   "metadata": {
    "collapsed": true
   },
   "outputs": [],
   "source": [
    "employ_data['numemplqtr'].value_counts(ascending=True, normalize=True)"
   ]
  },
  {
   "cell_type": "code",
   "execution_count": null,
   "metadata": {
    "collapsed": true
   },
   "outputs": [],
   "source": [
    "employ_data[['wageq0', 'wageq1', 'wageq2','wageq3', 'wageq4', 'wageq5', 'wageq6', 'wageq7', 'employed', 'numemplqtr']].describe(percentiles=[.45, .5, .55])"
   ]
  },
  {
   "cell_type": "code",
   "execution_count": null,
   "metadata": {
    "collapsed": true,
    "scrolled": true
   },
   "outputs": [],
   "source": [
    "#create a substet of variables to check employed variable\n",
    "chkqtr = full_data[['wageq0', 'wageq1', 'wageq2','wageq3', 'wageq4', 'wageq5', 'wageq6', 'wageq7', 'employed', 'numemplqtr', 'employed0', 'employed1', 'employed2', 'employed3', 'employed4', 'employed5', 'employed6', 'employed7']]\n",
    "chkqtr.head()"
   ]
  },
  {
   "cell_type": "code",
   "execution_count": null,
   "metadata": {
    "collapsed": true
   },
   "outputs": [],
   "source": [
    "#generate random smaple of n observations to check employed variable\n",
    "randchkqtr = chkqtr.sample(n = 20)\n",
    "randchkqtr.head(n = 20)"
   ]
  },
  {
   "cell_type": "code",
   "execution_count": null,
   "metadata": {
    "collapsed": true
   },
   "outputs": [],
   "source": [
    "randchkqtr.describe(percentiles=[.45, .5, .55])"
   ]
  },
  {
   "cell_type": "code",
   "execution_count": null,
   "metadata": {
    "collapsed": true
   },
   "outputs": [],
   "source": [
    "#create copy with all NaNs = 0 to get descriptives that include people with no wages\n",
    "full_data0 = full_data\n",
    "full_data0.head()"
   ]
  },
  {
   "cell_type": "code",
   "execution_count": null,
   "metadata": {
    "collapsed": true,
    "scrolled": true
   },
   "outputs": [],
   "source": [
    "full_data0.fillna(0, inplace=True)"
   ]
  },
  {
   "cell_type": "code",
   "execution_count": null,
   "metadata": {
    "collapsed": true
   },
   "outputs": [],
   "source": [
    "full_data0[['wageq0', 'wageq1', 'wageq2','wageq3', 'wageq4', 'wageq5', 'wageq6', 'wageq7']].describe(percentiles=[.45, .5, .55])"
   ]
  },
  {
   "cell_type": "code",
   "execution_count": null,
   "metadata": {
    "collapsed": true
   },
   "outputs": [],
   "source": [
    "full_data['kids'].value_counts(normalize=False, sort=True)"
   ]
  },
  {
   "cell_type": "code",
   "execution_count": null,
   "metadata": {
    "collapsed": true,
    "scrolled": true
   },
   "outputs": [],
   "source": [
    "full_data[['kids']].isnull().sum()"
   ]
  },
  {
   "cell_type": "code",
   "execution_count": null,
   "metadata": {
    "collapsed": true
   },
   "outputs": [],
   "source": [
    "sub_data = full_data[['docnbr',\n",
    "'birthyr',\n",
    "'race',\n",
    "'sex',\n",
    "'curadmdt',\n",
    "'curadmmo',\n",
    "'curadmyr',\n",
    "'admtypo',\n",
    "'relinst',\n",
    "'lstsclvl',\n",
    "'hclass',\n",
    "'hofnscd',\n",
    "'exittyp',\n",
    "'actmsrdt',\n",
    "'actmsrmo',\n",
    "'actmsryr',\n",
    "'actdisdt',\n",
    "'actdismo',\n",
    "'actdisyr',\n",
    "'cccadmdt',\n",
    "'cccadmmo',\n",
    "'cccadmyr',\n",
    "'jailtime',\n",
    "'marstat',\n",
    "'kids',\n",
    "'educlvl',\n",
    "'gang',\n",
    "'vetf',\n",
    "'drugalcf',\n",
    "'drugcocf',\n",
    "'drugampf',\n",
    "'drugmarf',\n",
    "'drugherf',\n",
    "'drugpcpf',\n",
    "'drugothf',\n",
    "'drugunkf',\n",
    "'empplanf',\n",
    "'gangact',\n",
    "'birthpl',\n",
    "'citzshp',\n",
    "'zipcode',\n",
    "'sexreg',\n",
    "'sexoff',\n",
    "'exitda',\n",
    "'exitmo',\n",
    "'exityr',\n",
    "'birth_year',\n",
    "'birth_date',\n",
    "'curadm_date',\n",
    "'actdis_date',\n",
    "'exit_date',\n",
    "'zip5',\n",
    "                     ]]"
   ]
  },
  {
   "cell_type": "code",
   "execution_count": null,
   "metadata": {
    "collapsed": true
   },
   "outputs": [],
   "source": [
    "sub_data['employed'] = full_data.filter(regex = \"^wageq[0-8]$\").max(axis = 1).apply(lambda x: (x > 0))\n",
    "sub_data['employed'].value_counts(normalize=True)"
   ]
  },
  {
   "cell_type": "code",
   "execution_count": null,
   "metadata": {
    "collapsed": true
   },
   "outputs": [],
   "source": [
    "full_data[['wageq0', 'wageq1', 'wageq2','wageq3', 'wageq4', 'wageq5', 'wageq6', 'wageq7', 'numemplqtr']].describe(percentiles=[.45, .5, .55])"
   ]
  },
  {
   "cell_type": "code",
   "execution_count": null,
   "metadata": {
    "collapsed": true
   },
   "outputs": [],
   "source": [
    "emp_data = full_data.loc[full_data['numemplqtr'] > 0]"
   ]
  },
  {
   "cell_type": "code",
   "execution_count": null,
   "metadata": {
    "collapsed": true
   },
   "outputs": [],
   "source": [
    "emp_data.head()"
   ]
  },
  {
   "cell_type": "code",
   "execution_count": null,
   "metadata": {
    "collapsed": true
   },
   "outputs": [],
   "source": [
    "emp_data[['wageq0', 'wageq1', 'wageq2','wageq3', 'wageq4', 'wageq5', 'wageq6', 'wageq7', 'numemplqtr']].describe(percentiles=[.45, .5, .55])"
   ]
  },
  {
   "cell_type": "code",
   "execution_count": null,
   "metadata": {
    "collapsed": true
   },
   "outputs": [],
   "source": [
    "f = open(\"fileofoutput.txt\", \"w\")\n",
    "\n",
    "##integers\n",
    "\n",
    "print >>f ,sub_data[[\n",
    "'birthyr',   \n",
    "'curadmdt',\n",
    "'curadmmo', \n",
    "'curadmyr', \n",
    "'hofnscd', \n",
    "'actmsrdt',  \n",
    "'actmsrmo', \n",
    "'actmsryr', \n",
    "'actdisdt', \n",
    "'actdismo', \n",
    "'actdisyr', \n",
    "'cccadmdt', \n",
    "'cccadmmo', \n",
    "'cccadmyr', \n",
    "'jailtime', \n",
    "'kids', \n",
    "'exitda',     \n",
    "'exitmo',   \n",
    "'exityr', \n",
    "'employed'\n",
    "]].describe()\n",
    "\n",
    "sub_data[[\n",
    "'birthyr',   \n",
    "'curadmdt',\n",
    "'curadmmo', \n",
    "'curadmyr', \n",
    "'hofnscd', \n",
    "'actmsrdt',  \n",
    "'actmsrmo', \n",
    "'actmsryr', \n",
    "'actdisdt', \n",
    "'actdismo', \n",
    "'actdisyr', \n",
    "'cccadmdt', \n",
    "'cccadmmo', \n",
    "'cccadmyr', \n",
    "'jailtime', \n",
    "'kids', \n",
    "'exitda',     \n",
    "'exitmo',   \n",
    "'exityr', \n",
    "'birthyr',\n",
    "'employed'\n",
    "]].describe()"
   ]
  },
  {
   "cell_type": "code",
   "execution_count": null,
   "metadata": {
    "collapsed": true
   },
   "outputs": [],
   "source": [
    "f = open(\"fileofoutput.txt\", \"a\")\n",
    "\n",
    "##integers\n",
    "\n",
    "print >>f ,sub_data[[\n",
    "'birthyr',\n",
    "'employed'\n",
    "]].describe()\n",
    "\n",
    "sub_data[[\n",
    "'birthyr',\n",
    "'employed'\n",
    "]].describe()"
   ]
  },
  {
   "cell_type": "code",
   "execution_count": null,
   "metadata": {
    "collapsed": true
   },
   "outputs": [],
   "source": [
    "f = open(\"fileofoutput.txt\", \"a\")\n",
    "\n",
    "print >>f ,full_data[['cccadmdt',\n",
    "'cccadmmo',\n",
    "'cccadmyr',\n",
    "'jailtime',\n",
    "'marstat',\n",
    "'kids',\n",
    "'educlvl',\n",
    "'gang',\n",
    "'vetf',\n",
    "'drugalcf',\n",
    "'drugcocf',\n",
    "'drugampf',\n",
    "'drugmarf',\n",
    "'drugherf',\n",
    "'drugpcpf',\n",
    "'drugothf',\n",
    "'drugunkf',\n",
    "'empplanf',\n",
    "'gangact',\n",
    "]].describe()\n",
    "\n",
    "full_data[['cccadmdt','cccadmmo','cccadmyr','jailtime','marstat','kids','educlvl','gang','vetf','drugalcf','drugcocf','drugampf','drugmarf','drugherf','drugpcpf','drugothf','drugunkf','empplanf','gangact',\n",
    "]].describe()"
   ]
  },
  {
   "cell_type": "code",
   "execution_count": null,
   "metadata": {
    "collapsed": true
   },
   "outputs": [],
   "source": [
    "f = open(\"fileofoutput.txt\", \"a\")\n",
    "\n",
    "print >>f ,full_data[['birthpl',\n",
    "'citzshp',\n",
    "'zipcode',\n",
    "'sexreg',\n",
    "'sexoff',\n",
    "'exitda',\n",
    "'exitmo',\n",
    "'exityr',\n",
    "'birth_year',\n",
    "'birth_date',\n",
    "'curadm_date',\n",
    "'actdis_date',\n",
    "'exit_date',\n",
    "'zip5'\n",
    "]].describe()                      "
   ]
  },
  {
   "cell_type": "code",
   "execution_count": null,
   "metadata": {
    "collapsed": true
   },
   "outputs": [],
   "source": [
    "f.close()"
   ]
  },
  {
   "cell_type": "code",
   "execution_count": null,
   "metadata": {
    "collapsed": true,
    "scrolled": true
   },
   "outputs": [],
   "source": [
    "sub_data.dtypes"
   ]
  },
  {
   "cell_type": "code",
   "execution_count": null,
   "metadata": {
    "collapsed": true
   },
   "outputs": [],
   "source": [
    "sub_data.employed = sub_data.employed.astype(float)"
   ]
  },
  {
   "cell_type": "code",
   "execution_count": null,
   "metadata": {
    "collapsed": true
   },
   "outputs": [],
   "source": [
    "sub_data['drugalcf'].value_counts(normalize=False, sort=True)"
   ]
  },
  {
   "cell_type": "code",
   "execution_count": null,
   "metadata": {
    "collapsed": true
   },
   "outputs": [],
   "source": [
    "#SELECT DISTINCT(curadmyr), COUNT(*)\n",
    "#FROM m3.wagebyqtr_forcohort\n",
    "#GROUP BY curadmyr;"
   ]
  }
 ],
 "metadata": {
  "kernelspec": {
   "display_name": "Python 2",
   "language": "python",
   "name": "python2"
  },
  "language_info": {
   "codemirror_mode": {
    "name": "ipython",
    "version": 2
   },
   "file_extension": ".py",
   "mimetype": "text/x-python",
   "name": "python",
   "nbconvert_exporter": "python",
   "pygments_lexer": "ipython2",
   "version": "2.7.12"
  }
 },
 "nbformat": 4,
 "nbformat_minor": 2
}
