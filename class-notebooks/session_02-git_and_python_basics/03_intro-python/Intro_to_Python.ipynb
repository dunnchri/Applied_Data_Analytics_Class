{
 "cells": [
  {
   "cell_type": "code",
   "execution_count": null,
   "metadata": {
    "collapsed": true
   },
   "outputs": [],
   "source": [
    "#don't worry about this right now\n",
    "%matplotlib inline\n",
    "from __future__ import print_function"
   ]
  },
  {
   "cell_type": "markdown",
   "metadata": {},
   "source": [
    "# Jupyter Notebooks\n",
    "\n",
    "## A Brief History of Python and Jupyter\n",
    "---\n",
    "- Back to [Table of Contents](#table-of-contents)\n",
    "\n",
    "\n",
    "> Before coming to class, you should have completed the [DataCamp Intro to Python for Data Science](https://www.datacamp.com/courses/intro-to-python-for-data-science) course. It is free and takes about four hours. \n",
    "\n",
    "\n",
    "Python is a high-level interpreted general purpose programming language named after a British Comedy Troupe. Python was created by \n",
    "Guido van Rossum (Python's benovolent dictator fore life), and is maintained by an international group of enthusiasts. \n",
    "\n",
    "As of October 2016, Python is the fifth most popular programming language in the world. It is popular for data science because it's powerful, it's fast, it \"plays well\" with other languages, it runs everywhere, it's easy to learn, it's highly readable, it's open-source, and it enjoys relatively fast development time compared to other languages. Because of its general-purpose nature and its ability to call compiled languages like FORTRAN or C, it can be used in full-stack development. There is a growing and always-improving list of open-source libraries for scientific programming, data manipulation, and data analysis (e.g., Numpy, Scipy, Pandas, Scikit-Learn, Statsmodels, Matplotlib, Seaborn, PyTables, etc.)\n",
    "\n",
    "[IPython](http://www.ipython.org) is an enhanced, interactive Python interpreter that started as a grad school project by Fernando Perez. The project evolved into the IPython notebook, which allowed users to archive their code, figures, and analysis in a single document, making  conducting and sharing reproducible research much easier. The creators of the IPython notebook quickly realized that the interactive \"notebook\" aspects didn't depend on Python and could be useful for other programming languages, and ported the notebook to other languages, including R and Julia. This led to rebranding IPython as Jupyter. \n",
    " \n",
    "\n"
   ]
  },
  {
   "cell_type": "markdown",
   "metadata": {},
   "source": [
    "## Usage\n",
    "\n",
    "Jupyter notebooks are comprised of **cells**. Cells come in two types: *code* and *Markdown*.\n",
    "\n",
    "On the lefthand side of every *code* cell you'll see `In[ ]`. If you click inside the code cell and press `Shift+Enter`, it will run the code in that cell. While the code is *running*, you will see `In[*]`. After the evaulation has *completed*, the box next to the code cell will display `In[1]` or another number. The numbers indicate the order in which the code cells were run. \n",
    "\n",
    "A cell can also be converted into a Markdown cell that can be used to write text, which is how this notebook is written. On the top drop-down menu, click `Cell > Cell Type > Markdown` to change a cell to Markdown.\n",
    "\n"
   ]
  },
  {
   "cell_type": "markdown",
   "metadata": {},
   "source": [
    "# Introduction to Python\n",
    "\n",
    "In this notebook, we'll quickly go over Python basics to prepare us for the Spatial Analysis, Git, and Python for Data Analysis sections.\n",
    "\n",
    "We will go over the following: \n",
    "\n",
    "0. [Comments](#0.-Comments)\n",
    "1. [Importing external libraries](#1.-Importing-external-libraries)\n",
    "2. [Data Types](#2.-Data-Types)\n",
    "4. [Variables](#3.Variables)\n",
    "5. [Arrays](#4.-Arrays)\n",
    "6. [Lists](#Lists)\n",
    "7. [Slicing](#Slicing)\n",
    "8. [Loops](#Loops-and-if-statements)\n",
    "9. [Functions](#Functions)\n",
    "10. [Plotting](#Plotting) \n",
    "11. [Exercises](#Exercises)\n",
    "12. [Errors](#Errors)\n",
    "13. [Further Reading](#Further-Resources)\n"
   ]
  },
  {
   "cell_type": "markdown",
   "metadata": {},
   "source": [
    "# 0. Comments\n",
    "\n",
    "Comments in python are prefaced with a '#'. Comments are not interpreted by the python interpreter rather they are notes left by the programmer about their code. Good comments explain how code works and give context. "
   ]
  },
  {
   "cell_type": "code",
   "execution_count": null,
   "metadata": {
    "collapsed": true
   },
   "outputs": [],
   "source": [
    "#This is an example of a comment. "
   ]
  },
  {
   "cell_type": "markdown",
   "metadata": {},
   "source": [
    "## 1. Importing external libraries"
   ]
  },
  {
   "cell_type": "markdown",
   "metadata": {},
   "source": [
    "When programming, you often want to reuse code that you or others have written, to save time, make your life easier, or avoid \"reinventing the wheel.\" To use previously written Python code, we `import` packages. You can think of importing a library as pulling out a specific tool from your toolbox.\n",
    "\n",
    "Here we'll import `numpy`, a popular package for scientific computing."
   ]
  },
  {
   "cell_type": "code",
   "execution_count": null,
   "metadata": {
    "collapsed": true
   },
   "outputs": [],
   "source": [
    "import numpy as np"
   ]
  },
  {
   "cell_type": "code",
   "execution_count": null,
   "metadata": {
    "collapsed": true
   },
   "outputs": [],
   "source": [
    "sys.path\n"
   ]
  },
  {
   "cell_type": "markdown",
   "metadata": {},
   "source": [
    "## 2. Data Types \n",
    "\n",
    "Python has a number of built-in data types.\n",
    "\n",
    "1. **Ints** are *integer numbers*, as the name indicates (e.g. 10, -10). \n",
    "2. **Floats** are decimal numbers (e.g. 10.05, -10.00).\n",
    "3. **Strings** represent characters (e.g. 'Chicago').\n",
    "4. **Booleans** can only take on one of two values: `True` or `False`.\n",
    "5. **Lists** are containers that can hold multiple items. The items in a list can be any type, and are accessed by their *position* in the list using an integer index (e.g. `my_list[3]`). \n",
    "6. **Sets** are like lists, but they may not contain any repeated values. *We will not cover sets in this tutorial.*  \n",
    "7. **Dictionaries** hold multiple items, similar to lists, but each item in a dictionary has a corresponding *key*, so you can access the items using their names instead of their numerical positions. *We will not cover dictionaries in this tutorial.*\n",
    "\n",
    "Below is an example of some of these data types using the `print` and `type` functions on various values. The `print` function, as you might expect, *prints out* whatever you give it. The `type` function returns the *type*. See if you can guess the type of each input before running this code cell. "
   ]
  },
  {
   "cell_type": "code",
   "execution_count": null,
   "metadata": {},
   "outputs": [],
   "source": [
    "print(10, type(10))\n",
    "print(10.05, type(10.05))\n",
    "print('Chicago', type('Chicago'))\n",
    "print(True, type(True))"
   ]
  },
  {
   "cell_type": "markdown",
   "metadata": {},
   "source": [
    "### Arithmetic\n",
    "\n",
    "We can do the normal arithmetic operations on ints and floats:\n",
    "    \n",
    "- **+**: addition\n",
    "- **-**: subtraction\n",
    "- *****: multiplication\n",
    "- **/**: division\n",
    "- ******: exponentiation"
   ]
  },
  {
   "cell_type": "code",
   "execution_count": null,
   "metadata": {},
   "outputs": [],
   "source": [
    "print('int arithmetic')\n",
    "print(10+5)\n",
    "print(10-5)\n",
    "print(10*5)\n",
    "print(10/5)\n",
    "print(10**5)\n",
    "print('\\n')\n",
    "print('float arithmetic')\n",
    "print(10.3+5.4)\n",
    "print(10.3-5.4)\n",
    "print(10.3*5.4)\n",
    "print(10.3/5.4)\n",
    "print(10.2**2.3)"
   ]
  },
  {
   "cell_type": "markdown",
   "metadata": {},
   "source": [
    "### Mixing Float and Integer Arithmetic\n",
    "What is 5 divided by 2.3? The answer might seem obvious to you (with the help of a calculator), but you might be surprised by what Python gives you. \n",
    "\n",
    "- In Python 2, 5/2.3 will return 2 (cutting off the decimal portion). \n",
    "- In Python 3, 5/2.3 will return 2.174 (keeping the decimal portion). \n",
    "\n",
    "This is because you are mixing arithmetic with a *float* (2.3) and with an *integer* (5), and Python has to choose a side. Python 2 sides with integers, and Python 3 sides with floats. \n",
    "\n",
    "When converting from Python2 to Python3 this is often a source of subtle, pernicious bugs, so be careful!\n"
   ]
  },
  {
   "cell_type": "code",
   "execution_count": null,
   "metadata": {},
   "outputs": [],
   "source": [
    "print(5/2.3)"
   ]
  },
  {
   "cell_type": "markdown",
   "metadata": {},
   "source": [
    "To represent *characters* in Python, you use **strings**. You indicate that something is a string by enclosing it in double quotes, as seen below."
   ]
  },
  {
   "cell_type": "code",
   "execution_count": null,
   "metadata": {},
   "outputs": [],
   "source": [
    "print(\"Chicago\")\n",
    "print(\"New York\")"
   ]
  },
  {
   "cell_type": "markdown",
   "metadata": {},
   "source": [
    "## Comparison Operators\n",
    "\n",
    "- < less than\n",
    " \n",
    "- \\> greater than\n",
    " \n",
    "- <= greater than or equal to\n",
    " \n",
    "- \\>= less than or equal to\n",
    "\n",
    "- == equal to\n",
    "\n",
    "Comparison operators return `True` or `False` and are useful for testing conditions. "
   ]
  },
  {
   "cell_type": "code",
   "execution_count": null,
   "metadata": {},
   "outputs": [],
   "source": [
    "print(5 < 4)\n",
    "print(4 > 5)\n",
    "print(5 == 5)\n",
    "print(5 >= 5)\n"
   ]
  },
  {
   "cell_type": "markdown",
   "metadata": {},
   "source": [
    "# 3. Variables \n",
    "\n",
    "Let's load weather data recorded at the O'Hare airport in Chicago in 2015. "
   ]
  },
  {
   "cell_type": "code",
   "execution_count": null,
   "metadata": {},
   "outputs": [],
   "source": [
    "numpy.loadtxt('OHARE_TEMP_2015.csv',delimiter=',')"
   ]
  },
  {
   "cell_type": "markdown",
   "metadata": {},
   "source": [
    "Let's break down this chunk of code. \n",
    "\n",
    "To call a **method** from `numpy` we use the syntax *numpy.somecommand*; here we called `numpy.loadtxt()`. You can think of methods as *verbs* that do things in your program. In this case, what `loadtxt()` does is *load data* from a CSV file. The `loadtxt()` method takes *arguments*, or *parameters*, and returns an *output*. In this case we passed two arguments, `OHARE_TEMP_2015.csv` and `delimiter=','` in two different ways, as *positional* and *keyword* arguments, respectively.  \n",
    "\n",
    "The file name `OHARE_TEMP_2015.csv` is the **positional argument**. `loadtxt()` expects that the first thing it sees will be the name of the file it's supposed to read. The **keyword argument** is `delimiter`. Since we're reading a CSV, or *comma separated value*, file, the fields are separated, or *delimited*, by commas. To pass this information to the function, we specify that `delimiter=','`'.\n",
    "\n",
    "When we call `loadtxt()`, it outputs an array of data. If we want to *save* this array of data so that we can use it for analysis, we capture it by storing it in a **variable** that we can reference later. You can think of the variable as a label on the data. \n",
    "\n",
    "Variable names must start with a letter. A good variable name should also be \"self-documenting,\" which means they should be informative and make sense. This means `np_ohare_temperature` is better than, say, `x`, because the former communicates the variable is labeling a *numpy array* containing *O'Hare temperature data*. The name `x` communicates nothing. "
   ]
  },
  {
   "cell_type": "code",
   "execution_count": null,
   "metadata": {
    "collapsed": true
   },
   "outputs": [],
   "source": [
    "np_ohare_temperature = numpy.loadtxt('OHARE_TEMP_2015.csv',delimiter=',')"
   ]
  },
  {
   "cell_type": "markdown",
   "metadata": {},
   "source": [
    "We can also store other variable types in variables. "
   ]
  },
  {
   "cell_type": "code",
   "execution_count": null,
   "metadata": {
    "collapsed": true
   },
   "outputs": [],
   "source": [
    "num_days_in_year = 365"
   ]
  },
  {
   "cell_type": "code",
   "execution_count": null,
   "metadata": {},
   "outputs": [],
   "source": [
    "type(num_days_in_year)"
   ]
  },
  {
   "cell_type": "markdown",
   "metadata": {},
   "source": [
    "To access the value in `num_days_in_year` we just have to invoke the variable and it will output the value it references. "
   ]
  },
  {
   "cell_type": "code",
   "execution_count": null,
   "metadata": {},
   "outputs": [],
   "source": [
    "num_days_in_year"
   ]
  },
  {
   "cell_type": "markdown",
   "metadata": {},
   "source": [
    "We can also reassign a value to the variable. Say we don't want the `int` 356 but the `float` 365.0"
   ]
  },
  {
   "cell_type": "code",
   "execution_count": null,
   "metadata": {
    "collapsed": true
   },
   "outputs": [],
   "source": [
    "num_days_in_year = 365.0"
   ]
  },
  {
   "cell_type": "code",
   "execution_count": null,
   "metadata": {},
   "outputs": [],
   "source": [
    "num_days_in_year"
   ]
  },
  {
   "cell_type": "markdown",
   "metadata": {},
   "source": [
    "## 4. Arrays\n",
    "\n",
    "Notice that when we assigned the output of the `numpy.loadtxt()` command to a variable, it did *not* display the output of the command. \n",
    "\n",
    "We can examine the output using the `print` command."
   ]
  },
  {
   "cell_type": "code",
   "execution_count": null,
   "metadata": {
    "collapsed": true
   },
   "outputs": [],
   "source": [
    "print(np_ohare_temperature)"
   ]
  },
  {
   "cell_type": "markdown",
   "metadata": {},
   "source": [
    "Our output is a two column array. Each row is a measurement. The first column is the date a measurement was taken, and the second column is the maximum temperature on that day.\n",
    "\n",
    "Let's examine how many rows and columns are in our array using the `shape` attribute. "
   ]
  },
  {
   "cell_type": "code",
   "execution_count": null,
   "metadata": {
    "collapsed": true
   },
   "outputs": [],
   "source": [
    "np_ohare_temperature.shape"
   ]
  },
  {
   "cell_type": "markdown",
   "metadata": {},
   "source": [
    "An **attribute** describes the \"state\" of an object. If methods and functions are *verbs* that do something with an object, then attributes are the *adjectives* that describe the object. In this case, the `shape` attribute indicates how many rows and columns we have in the array: 365 rows (for 365 days of the year), and 2 columns (for date and average temperature). "
   ]
  },
  {
   "cell_type": "markdown",
   "metadata": {},
   "source": [
    "### Indexing"
   ]
  },
  {
   "cell_type": "markdown",
   "metadata": {},
   "source": [
    "To access *specific values* in the array we have to **index** the array. In Python, we start counting and indexing at 0 instead of at 1."
   ]
  },
  {
   "cell_type": "code",
   "execution_count": null,
   "metadata": {
    "collapsed": true
   },
   "outputs": [],
   "source": [
    "#access the first row of the array\n",
    "print(np_ohare_temperature[0])"
   ]
  },
  {
   "cell_type": "markdown",
   "metadata": {},
   "source": [
    "The output is a list that contains the measurement for `20150101` or `2015-01-01`. Let's try just getting the date value from the array."
   ]
  },
  {
   "cell_type": "code",
   "execution_count": null,
   "metadata": {
    "collapsed": true
   },
   "outputs": [],
   "source": [
    "#index the first value of the array 0,0\n",
    "#this is the first row and first column\n",
    "print(np_ohare_temperature[0,0])\n",
    "#index the second row and first column of the array 1,0\n",
    "print(np_ohare_temperature[1,0])"
   ]
  },
  {
   "cell_type": "markdown",
   "metadata": {},
   "source": [
    "This index returns the first and second average temperatures in the array by accessing the second value in each array. Due to the index starting a 0, the second column is accessed using 1 as an index. "
   ]
  },
  {
   "cell_type": "code",
   "execution_count": null,
   "metadata": {
    "collapsed": true
   },
   "outputs": [],
   "source": [
    "print(np_ohare_temperature[0,1])\n",
    "print(np_ohare_temperature[1,1])"
   ]
  },
  {
   "cell_type": "markdown",
   "metadata": {},
   "source": [
    "## Lists "
   ]
  },
  {
   "cell_type": "markdown",
   "metadata": {},
   "source": [
    "**lists** are a built-in Python data type (as opposed to NumPy arrays, which have to be loaded using `import numpy`). To create a list, we put values separated by commas in between brackets.  "
   ]
  },
  {
   "cell_type": "code",
   "execution_count": null,
   "metadata": {
    "collapsed": true
   },
   "outputs": [],
   "source": [
    "[0,1,2,3,4,5,6]"
   ]
  },
  {
   "cell_type": "markdown",
   "metadata": {},
   "source": [
    "We can save a list to a variable. "
   ]
  },
  {
   "cell_type": "code",
   "execution_count": null,
   "metadata": {
    "collapsed": true
   },
   "outputs": [],
   "source": [
    "ls_num = [0,1,2,3,4,5,6]"
   ]
  },
  {
   "cell_type": "markdown",
   "metadata": {},
   "source": [
    "## Slicing \n",
    "\n",
    "Now that we have `lists` in our tool box let's try and pull out the first seven days of the year and display them. \n",
    "\n",
    "First let's get the first seven rows. "
   ]
  },
  {
   "cell_type": "code",
   "execution_count": null,
   "metadata": {
    "collapsed": true
   },
   "outputs": [],
   "source": [
    "np_ohare_temperature[[0,1,2,3,4,5,6]]"
   ]
  },
  {
   "cell_type": "markdown",
   "metadata": {},
   "source": [
    "Now let's try getting only the dates in the first seven rows. "
   ]
  },
  {
   "cell_type": "code",
   "execution_count": null,
   "metadata": {
    "collapsed": true
   },
   "outputs": [],
   "source": [
    "np_ohare_temperature[[0,1,2,3,4,5,6],0]"
   ]
  },
  {
   "cell_type": "markdown",
   "metadata": {},
   "source": [
    "A more convenient, scalable, and robust way to pull out values from arrays is through **slicing**. We can slice an array using `:`, as follows: "
   ]
  },
  {
   "cell_type": "code",
   "execution_count": null,
   "metadata": {
    "collapsed": true
   },
   "outputs": [],
   "source": [
    "np_ohare_temperature[0:7]"
   ]
  },
  {
   "cell_type": "markdown",
   "metadata": {},
   "source": [
    "`0:7` is an instruction to take everthing from the *start* (the \"0th\" element) of the list, up to *but not including* the 7th element of the list."
   ]
  },
  {
   "cell_type": "markdown",
   "metadata": {},
   "source": [
    "Slices don't have to begin at zero! For instance, we could start at the 3rd element."
   ]
  },
  {
   "cell_type": "code",
   "execution_count": null,
   "metadata": {
    "collapsed": true
   },
   "outputs": [],
   "source": [
    "np_ohare_temperature[3:7]"
   ]
  },
  {
   "cell_type": "markdown",
   "metadata": {},
   "source": [
    "If we omit the *left index* in the slice, it will start at the beginning of the list by default. "
   ]
  },
  {
   "cell_type": "code",
   "execution_count": null,
   "metadata": {
    "collapsed": true
   },
   "outputs": [],
   "source": [
    "np_ohare_temperature[:7]"
   ]
  },
  {
   "cell_type": "markdown",
   "metadata": {},
   "source": [
    "If we omit the *right index* in the slice, it will go all the way to the end by default. "
   ]
  },
  {
   "cell_type": "code",
   "execution_count": null,
   "metadata": {
    "collapsed": true
   },
   "outputs": [],
   "source": [
    "np_ohare_temperature[360:]"
   ]
  },
  {
   "cell_type": "markdown",
   "metadata": {},
   "source": [
    "If there is no right *or* left index specified, then the slice will range over the *entire* array. "
   ]
  },
  {
   "cell_type": "code",
   "execution_count": null,
   "metadata": {
    "collapsed": true
   },
   "outputs": [],
   "source": [
    "np_ohare_temperature[:]"
   ]
  },
  {
   "cell_type": "markdown",
   "metadata": {},
   "source": [
    "# Loops and if statements\n",
    "\n",
    "**Loops** are \"control structures,\" which allow us to repeatedly run blocks of code without having to do it manually. One example we'll go over is the `for` loop in Python. \n",
    "\n",
    "An `if` statement takes the following form: \n",
    "```\n",
    "if (THIS):\n",
    "    (THAT)\n",
    "```  \n",
    "`(THIS)` must be a statement that evaluates to either `True` or `False`. If the statement is `True`, the indented code (`(THAT)`) will be run. If the statement is `False`, none of the indented code will be run. \n",
    "\n",
    "Suppose we wanted to find the *first time* that the maximum temperature was below zero in our Chicago data. How would we do it?\n",
    "\n",
    "One solution is to go through the array *one by one* until we find a value: "
   ]
  },
  {
   "cell_type": "code",
   "execution_count": null,
   "metadata": {
    "collapsed": true
   },
   "outputs": [],
   "source": [
    "max_temp = np_ohare_temperature[0,1]\n",
    "if max_temp < 0:\n",
    "    print('Found it ', max_temp)\n",
    "max_temp = np_ohare_temperature[1,1]\n",
    "if max_temp < 0:\n",
    "    print('Found it ', max_temp)\n",
    "max_temp = np_ohare_temperature[2,1]\n",
    "if max_temp < 0:\n",
    "    print('Found it ', max_temp)\n",
    "max_temp = np_ohare_temperature[3,1]\n",
    "if max_temp < 0:\n",
    "    print('Found it ', max_temp)\n",
    "max_temp = np_ohare_temperature[4,1]\n",
    "if max_temp < 0:\n",
    "    print('Found it ', max_temp)\n",
    "max_temp = np_ohare_temperature[5,1]\n",
    "if max_temp < 0:\n",
    "    print('Found it ', max_temp)\n",
    "max_temp = np_ohare_temperature[6,1]\n",
    "if max_temp < 0:\n",
    "    print('Found it ', max_temp)\n",
    "max_temp = np_ohare_temperature[7,1]\n",
    "if max_temp < 0:\n",
    "    print('Found it', max_temp)"
   ]
  },
  {
   "cell_type": "markdown",
   "metadata": {},
   "source": [
    "As you can see, this method is cumbersome, and not scalable (think of a dataset with 365,000 entries instead of 365!). One thing we can notice here is that there is a large amount of *repetition* until we reach a certain *condition*. This is where loops come in handy!"
   ]
  },
  {
   "cell_type": "code",
   "execution_count": null,
   "metadata": {
    "collapsed": true
   },
   "outputs": [],
   "source": [
    "for max_temp in np_ohare_temperature[:,1]:\n",
    "    if max_temp < 0:\n",
    "        print('Found it', max_temp)\n",
    "        break"
   ]
  },
  {
   "cell_type": "markdown",
   "metadata": {},
   "source": [
    "Break down of the loop: \n",
    "```\n",
    "for max_temp in np_ohare_temperature[:,1]:\n",
    "```\n",
    "Go through each entry in `np_ohare_temperature[:,1]`, the *second column* of `np_ohare_temperature`, one by one.\n",
    "\n",
    "```\n",
    "for max_temp in np_ohare_temperature[:,1]:\n",
    "    if max_temp < 0:\n",
    "```\n",
    "For each entry, check if that entry is *less than zero*.\n",
    "```\n",
    "for max_temp in np_ohare_temperature[:,1]:\n",
    "    if max_temp < 0:\n",
    "        print('Found it', max_temp)\n",
    "        break\n",
    "```\n",
    "If that entry is less than zero, print `Found it` along with the temperature. The `break` statement *breaks* out of the loop when we have reached the condition `max_temp < 0`.\n",
    "\n",
    "This is just like when we did it by hand - except this time we only had to write 4 lines of code!  \n",
    "\n",
    "The basic syntax of a `for loop` is the following: \n",
    "```\n",
    "for variable in some_list:\n",
    "    #do something with the variable\n",
    "```\n",
    "Instead of a list, we can also loop over a string:\n"
   ]
  },
  {
   "cell_type": "code",
   "execution_count": null,
   "metadata": {
    "collapsed": true
   },
   "outputs": [],
   "source": [
    "for i in 'Chicago':\n",
    "    print(i)"
   ]
  },
  {
   "cell_type": "markdown",
   "metadata": {},
   "source": [
    "## Functions\n",
    "\n",
    "Another important aspect of the Python language is functions. Functions are important because they encapsulate code into reusable chunks. \n",
    "\n",
    "Here's an example of a function to convert the temperature from Fahrenheit to Celsius. A function is defined as the following:\n",
    "\n",
    "```\n",
    "def some_function(parameter1,parameter2):\n",
    "    #do something with parameter1 and parameter2\n",
    " \n",
    "```\n",
    "Here, `some_function` is the name of the function. `parameter1` and `parameter2` are (as you could probably guess) parameters. Your function can have as many parameters as you like."
   ]
  },
  {
   "cell_type": "markdown",
   "metadata": {},
   "source": [
    "The formula to convert to celsius from fahrenheit is: $$T_{C^{o}} = (T_{F^{o}} - 32)*(5/9)$$"
   ]
  },
  {
   "cell_type": "code",
   "execution_count": null,
   "metadata": {
    "collapsed": true
   },
   "outputs": [],
   "source": [
    "def fahrenheit_to_celsius(fahrenheit_temp):\n",
    "    celsius = (fahrenheit_temp - 32)*5/9\n",
    "    return celsius"
   ]
  },
  {
   "cell_type": "markdown",
   "metadata": {},
   "source": [
    "First we used the `def` keyword to tell Python that we were *defining* a function. We named the function `fahrenheit_to_celsius` because we're using it to convert Fahrenheit to Celsius. This function only takes one parameter - the temperature in Fahrenheit. We convert the temperature to Celsius by subtracting 32 and multiplying by 5/9, then return the value `celsius` that we calculated using the `return` keyword. "
   ]
  },
  {
   "cell_type": "code",
   "execution_count": null,
   "metadata": {
    "collapsed": true
   },
   "outputs": [],
   "source": [
    "fahrenheit_to_celsius(100)"
   ]
  },
  {
   "cell_type": "markdown",
   "metadata": {},
   "source": [
    "Let's convert the first five temperatures to Celsius and display them side by side with the Fahrenheit values using the tools we have learned!"
   ]
  },
  {
   "cell_type": "code",
   "execution_count": null,
   "metadata": {
    "collapsed": true
   },
   "outputs": [],
   "source": [
    "for fahrenheit_temp in np_ohare_temperature[:5,1]:\n",
    "    print(fahrenheit_temp,fahrenheit_to_celsius(fahrenheit_temp))"
   ]
  },
  {
   "cell_type": "markdown",
   "metadata": {},
   "source": [
    "# Plotting \n",
    "\n",
    "We will often be plotting our data. As an example let's to try plotting the Chicago weather. "
   ]
  },
  {
   "cell_type": "code",
   "execution_count": null,
   "metadata": {
    "collapsed": true
   },
   "outputs": [],
   "source": [
    "import matplotlib.pyplot "
   ]
  },
  {
   "cell_type": "code",
   "execution_count": null,
   "metadata": {
    "collapsed": true
   },
   "outputs": [],
   "source": [
    "matplotlib.pyplot.plot(np_ohare_temperature[:,1])"
   ]
  },
  {
   "cell_type": "markdown",
   "metadata": {},
   "source": [
    "The x-axis of this graph is the day of the year, ranging from 1 to 365. The y-axis is the temperature in Fahrenheit. From here we can see that the beginning of the year is quite cold in the winter time. Then the temperature rises during the spring and summer and begins to fall back down during the fall season. "
   ]
  },
  {
   "cell_type": "markdown",
   "metadata": {},
   "source": [
    "# Exercises "
   ]
  },
  {
   "cell_type": "markdown",
   "metadata": {},
   "source": [
    "## Convert Fahrenheit to Kelvin \n",
    "\n",
    "Kelvin is an absolute thermodynamic temperature scale, often used in the physical sciences. In this exercise, you will create a function called `fahrenheit_to_kelvin` and output the first *10* temperatures in Fahrenheit and Kelvin side-by-side.\n",
    "\n",
    "The formula to convert to Kelvin from Fahrenheit is: $$T_{K} = (T_{F^{o}} - 32)*(5/9) + 273$$"
   ]
  },
  {
   "cell_type": "code",
   "execution_count": null,
   "metadata": {
    "collapsed": true
   },
   "outputs": [],
   "source": [
    "def fahrenheit_to_kelvin(fahrenheit_temp):\n",
    "    kelvin_temp = (fahrenheit_temp + -32)*(5/9) + 273\n",
    "    return kelvin_temp"
   ]
  },
  {
   "cell_type": "code",
   "execution_count": null,
   "metadata": {
    "collapsed": true
   },
   "outputs": [],
   "source": [
    "for fahrenheit_temp in np_ohare_temperature[:10,1]:\n",
    "    print(fahrenheit_temp,fahrenheit_to_kelvin(fahrenheit_temp))"
   ]
  },
  {
   "cell_type": "markdown",
   "metadata": {},
   "source": [
    "## `Append` Values to a List\n",
    "\n",
    "We saw previously that we could create a list by enclosing values in brackets and separating them by commas, `[1,2,3]`. This requires that we know all the values beforehand. Another way to add values to a list is to use the `append` method. \n",
    "\n",
    "If we create an empty list and assign it to a variable we can then append values to the list:\n",
    "```\n",
    "example_list = []\n",
    "example_list.append(5)\n",
    "print(example_list)\n",
    "```\n",
    "\n",
    "For this exercise convert the temperatures from Fahrenheit to Kelvin and store the values in a list using the `append` method. "
   ]
  },
  {
   "cell_type": "code",
   "execution_count": null,
   "metadata": {
    "collapsed": true
   },
   "outputs": [],
   "source": [
    "ls_kelvin_temps = []\n",
    "for fahrenheit_temp in np_ohare_temperature[:,1]:\n",
    "    ls_kelvin_temps.append( fahrenheit_to_kelvin(fahrenheit_temp) )"
   ]
  },
  {
   "cell_type": "code",
   "execution_count": null,
   "metadata": {
    "collapsed": true
   },
   "outputs": [],
   "source": [
    "print(ls_kelvin_temps[:10])"
   ]
  },
  {
   "cell_type": "markdown",
   "metadata": {},
   "source": [
    "## Plot Kelvin values on a graph\n",
    "\n",
    "Finally, make a figure of the average temperature/day using `matplotlib`."
   ]
  },
  {
   "cell_type": "code",
   "execution_count": null,
   "metadata": {
    "collapsed": true
   },
   "outputs": [],
   "source": [
    "matplotlib.pyplot.plot(ls_kelvin_temps)"
   ]
  },
  {
   "cell_type": "markdown",
   "metadata": {},
   "source": [
    "# Errors\n",
    "\n",
    "One of the most important skills a programmer should have is courage. Errors will regularly occur and they have to be dealt with. Always keep in mind when programming you will not break the computer if your code fails -- it is OK. \n",
    "\n",
    "Take the following code for example: "
   ]
  },
  {
   "cell_type": "code",
   "execution_count": null,
   "metadata": {},
   "outputs": [],
   "source": [
    "num_days_in_year = 365\n",
    "print('There are this many days in a year ' + num_days_in_year)"
   ]
  },
  {
   "cell_type": "markdown",
   "metadata": {},
   "source": [
    "When we try to run the code above the interpreter sees that `num_days_in_year` is not a `str` type. It needs to be in order to print it to the screen using the print command. Because of this the python interpeter throws a `TypeError` and fails to run the code. The error is `TypeError: Can't convert `int` object to str implictly`. This means the value references by the variable num_days_in_year needs to be a string. To fix this we will cast `num_days_in_year` as a str type. "
   ]
  },
  {
   "cell_type": "code",
   "execution_count": null,
   "metadata": {},
   "outputs": [],
   "source": [
    "print('There are this many days in a year ' + str(num_days_in_year))"
   ]
  },
  {
   "cell_type": "markdown",
   "metadata": {},
   "source": [
    "# Further Resources\n",
    "\n",
    "There are many resources on the internet to help you learn basic Python programming. This tutorial was based on the following:\n",
    "\n",
    "- [Software Carpentry Python Tutorial](http://swcarpentry.github.io/python-novice-inflammation/)\n",
    "- [Offical Beginner's Guide to Python](https://www.python.org/about/gettingstarted/)\n",
    "- [Official Python 3 Tutorial](https://docs.python.org/3/tutorial/)"
   ]
  }
 ],
 "metadata": {
  "kernelspec": {
   "display_name": "Python 3",
   "language": "python",
   "name": "python3"
  },
  "language_info": {
   "codemirror_mode": {
    "name": "ipython",
    "version": 3
   },
   "file_extension": ".py",
   "mimetype": "text/x-python",
   "name": "python",
   "nbconvert_exporter": "python",
   "pygments_lexer": "ipython3",
   "version": "3.5.2"
  }
 },
 "nbformat": 4,
 "nbformat_minor": 1
}
