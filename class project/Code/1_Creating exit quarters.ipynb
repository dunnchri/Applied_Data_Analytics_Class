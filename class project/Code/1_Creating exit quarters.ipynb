{
 "cells": [
  {
   "cell_type": "code",
   "execution_count": null,
   "metadata": {},
   "outputs": [],
   "source": [
    "# Packages we need for all the excercises in this notebook\n",
    "%pylab inline\n",
    "from __future__ import print_function\n",
    "import pandas as pd\n",
    "import numpy as np\n",
    "import scipy\n",
    "import sklearn\n",
    "import matplotlib.pyplot as plt\n",
    "import psycopg2\n",
    "import sqlalchemy\n",
    "import jellyfish\n",
    "import re\n",
    "import recordlinkage as rl"
   ]
  },
  {
   "cell_type": "code",
   "execution_count": null,
   "metadata": {
    "collapsed": true
   },
   "outputs": [],
   "source": [
    "# Read in data needed from database\n",
    "# db_name = \"appliedda\"\n",
    "# db_host = \"10.10.2.10\"\n",
    "# pgsql_connection = psycopg2.connect( host = db_host, database = db_name )\n",
    "# cur = pgsql_connection.cursor()\n",
    "pgsql_engine = sqlalchemy.create_engine( \"postgresql://10.10.2.10/appliedda\" )"
   ]
  },
  {
   "cell_type": "code",
   "execution_count": null,
   "metadata": {},
   "outputs": [],
   "source": [
    "exitVars=\"docnbr, birthyr,race,sex,curadmdt,curadmmo,curadmyr,admtypo,relinst,lstsclvl, hclass,hofnscd,exittyp,ACTMSRDT, ACTMSRMO, ACTMSRYR, ACTDISDT, ACTDISMO, ACTDISYR, CCCADMDT, CCCADMMO, CCCADMYR, JAILTIME, MARSTAT, KIDS, EDUCLVL, GANG, VETF, DRUGALCF, DRUGCOCF, DRUGAMPF, DRUGMARF, DRUGHERF, DRUGPCPF, DRUGOTHF, DRUGUNKF, EMPPLANF, GANGACT, BIRTHPL, CITZSHP, ZIPCODE, SEXREG, SEXOFF, EXITDA, EXITMO, EXITYR, BIRTH_YEAR, BIRTH_DATE, CURADM_DATE, ACTDIS_DATE, EXIT_DATE, ZIP5,kids,marstat,otincar,gttyp01,gttyp02, gttyp03, gttyp04, gttyp05, gttyp06, gttyp07, gttyp08, gttyp09, gttyp10, gttyp11, gttyp12, gttyp13, gttyp14, gttyp15, gttyp16, gttyp17, gttyp18, gttyp19,gttyp24\"\n"
   ]
  },
  {
   "cell_type": "code",
   "execution_count": null,
   "metadata": {
    "collapsed": true
   },
   "outputs": [],
   "source": [
    "# Select variables needed from ildoc.ildoc_exit\n",
    "query = \"SELECT {Vars} FROM {table} where (exityr between 2010 and 2013) and exit_date-to_date(curadmyr||'-'||curadmmo||'-'||curadmda,'yyyy-mm-dd')!=0;\".format(table=\"ildoc.ildoc_exit\", Vars=exitVars)"
   ]
  },
  {
   "cell_type": "code",
   "execution_count": null,
   "metadata": {},
   "outputs": [],
   "source": [
    "#load exit data (exits 2010-2013)\n",
    "df_ext = pd.read_sql( query, con = pgsql_engine )"
   ]
  },
  {
   "cell_type": "code",
   "execution_count": null,
   "metadata": {},
   "outputs": [],
   "source": [
    "print(df_ext.head())"
   ]
  },
  {
   "cell_type": "code",
   "execution_count": null,
   "metadata": {},
   "outputs": [],
   "source": [
    "#cut months in exit data into quarters\n",
    "labels= [1, 2, 3, 4]\n",
    "df_ext['exitqtr']=pd.cut(df_ext.exitmo, range(0, 13, 3), labels=labels)\n",
    "print(df_ext.head(5))"
   ]
  },
  {
   "cell_type": "code",
   "execution_count": null,
   "metadata": {},
   "outputs": [],
   "source": [
    "#Create variable in exit dataset that identifies 8th quarter and year after release\n",
    "#Find wage entries for each person that equals or is greater than exit date and equals or is less than 8th quarter\n",
    "df_ext['yearplus2']=df_ext['exityr'] + 2\n",
    "df_ext.head(5)"
   ]
  },
  {
   "cell_type": "code",
   "execution_count": null,
   "metadata": {},
   "outputs": [],
   "source": [
    "##Create start=exit year and quarter and end=yearplus2 and quarter\n",
    "df_ext['start'] = (10 * df_ext['exityr'] ) + df_ext['exitqtr']\n",
    "df_ext['end'] = (10 * df_ext['yearplus2'] ) + df_ext['exitqtr']\n",
    "df_ext.head(10)"
   ]
  },
  {
   "cell_type": "code",
   "execution_count": null,
   "metadata": {
    "collapsed": true
   },
   "outputs": [],
   "source": [
    "#create variables with date for each quarter (year + quarter)\n",
    "#then, can match dates to wage dates\n",
    "#if quarter = 4, year+1 and quarter=1\n",
    "#if df_ext['']\n",
    "#df_ext['q1'] = (10 * df_ext['exityr'] ) + df_ext['exitqtr']\n",
    "\n",
    "##start to q0\n",
    "df_ext['q0']= df_ext['start']\n",
    "df_ext['q0'] = df_ext['q0'].apply(int)\n",
    "\n",
    "##Create q1 variable\n",
    "df_ext['q1']= df_ext['start'] + 1\n",
    "df_ext['q1'] = df_ext['q1'].apply(int)\n",
    "df_ext.ix[df_ext.q1 % 5 == 0, 'q1'] += 6\n",
    "\n",
    "##Create q2 variable\n",
    "df_ext['q2']= df_ext['q1'] + 1\n",
    "df_ext['q2'] = df_ext['q2'].apply(int)\n",
    "df_ext.ix[df_ext.q2 % 5 == 0, 'q2'] += 6\n",
    "\n",
    "##Create q3 variable\n",
    "df_ext['q3']= df_ext['q2'] + 1\n",
    "df_ext['q3'] = df_ext['q3'].apply(int)\n",
    "df_ext.ix[df_ext.q3 % 5 == 0, 'q3'] += 6\n",
    "\n",
    "##Create q4 variable\n",
    "df_ext['q4']= df_ext['q3'] + 1\n",
    "df_ext['q4'] = df_ext['q4'].apply(int)\n",
    "df_ext.ix[df_ext.q4 % 5 == 0, 'q4'] += 6\n",
    "\n",
    "##Create q5 variable\n",
    "df_ext['q5']= df_ext['q4'] + 1\n",
    "df_ext['q5'] = df_ext['q5'].apply(int)\n",
    "df_ext.ix[df_ext.q5 % 5 == 0, 'q5'] += 6\n",
    "\n",
    "##Create q6 variable\n",
    "df_ext['q6']= df_ext['q5'] + 1\n",
    "df_ext['q6'] = df_ext['q6'].apply(int)\n",
    "df_ext.ix[df_ext.q6 % 5 == 0, 'q6'] += 6\n",
    "\n",
    "##end to q7\n",
    "df_ext['q7']=  df_ext['q6'] + 1\n",
    "df_ext['q7'] = df_ext['q7'].apply(int)\n",
    "df_ext.ix[df_ext.q7 % 5 == 0, 'q7'] += 6"
   ]
  },
  {
   "cell_type": "code",
   "execution_count": null,
   "metadata": {},
   "outputs": [],
   "source": [
    "df_ext.head(5)"
   ]
  },
  {
   "cell_type": "code",
   "execution_count": null,
   "metadata": {
    "scrolled": false
   },
   "outputs": [],
   "source": [
    "#send the new table back to pgAdmin\n",
    "df_ext.to_sql( \"exitqtr\", con = pgsql_engine, schema = 'm3' )"
   ]
  },
  {
   "cell_type": "code",
   "execution_count": null,
   "metadata": {},
   "outputs": [],
   "source": [
    "#check to make sure the table was created properly\n",
    "df_exqtr= pd.read_sql( 'SELECT * FROM m3.exitqtr', con = pgsql_engine )\n",
    "df_exqtr.head(5)"
   ]
  },
  {
   "cell_type": "code",
   "execution_count": null,
   "metadata": {
    "collapsed": true
   },
   "outputs": [],
   "source": []
  }
 ],
 "metadata": {
  "kernelspec": {
   "display_name": "Python 2",
   "language": "python",
   "name": "python2"
  },
  "language_info": {
   "codemirror_mode": {
    "name": "ipython",
    "version": 2
   },
   "file_extension": ".py",
   "mimetype": "text/x-python",
   "name": "python",
   "nbconvert_exporter": "python",
   "pygments_lexer": "ipython2",
   "version": "2.7.12"
  }
 },
 "nbformat": 4,
 "nbformat_minor": 2
}
