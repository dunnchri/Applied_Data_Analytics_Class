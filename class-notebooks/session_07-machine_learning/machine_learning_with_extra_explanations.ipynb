{
 "cells": [
  {
   "cell_type": "markdown",
   "metadata": {},
   "source": [
    "# Machine Learning\n",
    "-----\n"
   ]
  },
  {
   "cell_type": "markdown",
   "metadata": {},
   "source": [
    "## Table of Contents\n",
    "- [Introduction](#introduction)\n",
    "- [Glossary of Terms](#glossary-of-terms)\n",
    "- [Setup](#setup)\n",
    "- [The Machine Learning Process](#the-machine-learning-process)\n",
    "- [Problem Formulation](#model-formulation)\n",
    "- [Feature Generation](#feature-generation)\n",
    "- [Model Fitting](#model-fitting)\n",
    "- [Model Evaluation](#model-evaluation)\n",
    "- [Machine Learning Pipeline](#machine-learning-pipeline)\n",
    "- [Deployment](#deployment)\n",
    "- [Exercises](#exercises)\n",
    "- [Resources](#resources)"
   ]
  },
  {
   "cell_type": "markdown",
   "metadata": {},
   "source": [
    "# Introduction\n",
    "In this tutorial, we'll discuss how to formulate a research question in the machine learning framework; how to transform raw data into something that can be fed into a model; how to build, evaluate, compare, and select models; and how to reasonably and accurately interpret model results. You'll also get hands-on experience using the `scikit-learn` package in Python to model the data you're familiar with from previous tutorials. \n",
    "\n",
    "\n",
    "This tutorial is based on chapter 6 of [Big Data and Social Science](https://github.com/BigDataSocialScience/)."
   ]
  },
  {
   "cell_type": "markdown",
   "metadata": {},
   "source": [
    "# Glossary of Terms \n",
    "- **Learning**: In machine learning, you'll hear about \"learning a model.\" This is what you probably know as \n",
    "*fitting* or *estimating* a function, or *training* or *building* a model. These terms are all synonyms and are \n",
    "used interchangeably in the machine learning literature.\n",
    "- **Examples**: These are what you probably know as *data points* or *observations*. \n",
    "- **Features**: These are what you probably know as *independent variables*, *attributes*, *predictors*, \n",
    "or *explanatory variables.*\n",
    "- **Underfitting**: This happens when a model is too simple and does not capture the structure of the data well \n",
    "enough.\n",
    "- **Overfitting**: This happens when a model is too complex or too sensitive to the noise in the data; this can\n",
    "result in poor generalization performance, or applicability of the model to new data. \n",
    "- **Regularization**: This is a general method to avoid overfitting by applying additional constraints to the model. \n",
    "For example, you can limit the number of features present in the final model, or the weight coefficients applied\n",
    "to the (standardized) features are small.\n",
    "- **Supervised learning** involves problems with one target or outcome variable (continuous or discrete) that we want\n",
    "to predict, or classify data into. Classification, prediction, and regression fall into this category. We call the\n",
    "set of explanatory variables $X$ **features**, and the outcome variable of interest $Y$ the **label**.\n",
    "- **Unsupervised learning** involves problems that do not have a specific outcome variable of interest, but rather\n",
    "we are looking to understand \"natural\" patterns or groupings in the data - looking to uncover some structure that \n",
    "we do not know about a priori. Clustering is the most common example of unsupervised learning, another example is \n",
    "principal components analysis (PCA).\n"
   ]
  },
  {
   "cell_type": "markdown",
   "metadata": {},
   "source": [
    "## Setup\n",
    "---\n",
    "*[Back to Table of Contents](#table-of-contents)*\n",
    "\n",
    "Before we begin, run the code cell below to initialize the libraries we'll be using in this assignment. We're already familiar with `numpy`, `pandas`, and `psycopg2` from previous tutorials. Here we'll also be using [`scikit-learn`](http://scikit-learn.org) to fit modeling."
   ]
  },
  {
   "cell_type": "code",
   "execution_count": null,
   "metadata": {
    "collapsed": true
   },
   "outputs": [],
   "source": [
    "%pylab inline\n",
    "import pandas as pd\n",
    "import psycopg2\n",
    "import sklearn\n",
    "import seaborn as sns\n",
    "from sklearn.metrics import precision_recall_curve, auc\n",
    "from sklearn.metrics import accuracy_score, precision_score, recall_score\n",
    "from sklearn.ensemble import (RandomForestClassifier, ExtraTreesClassifier, GradientBoostingClassifier, \n",
    "AdaBoostClassifier)\n",
    "from sklearn.linear_model import LogisticRegression, SGDClassifier\n",
    "from sklearn.naive_bayes import GaussianNB\n",
    "from sklearn.tree import DecisionTreeClassifier\n",
    "from sqlalchemy import create_engine\n",
    "sns.set_style(\"white\")"
   ]
  },
  {
   "cell_type": "markdown",
   "metadata": {},
   "source": [
    "### Connect to the database"
   ]
  },
  {
   "cell_type": "code",
   "execution_count": null,
   "metadata": {
    "collapsed": true
   },
   "outputs": [],
   "source": [
    "db_name = \"appliedda\"\n",
    "hostname = \"10.10.2.10\"\n",
    "conn = psycopg2.connect(database=db_name, host = hostname) #database connection"
   ]
  },
  {
   "cell_type": "markdown",
   "metadata": {},
   "source": [
    "The database connection allows us to make queries to a database from Python. "
   ]
  },
  {
   "cell_type": "code",
   "execution_count": null,
   "metadata": {
    "collapsed": true
   },
   "outputs": [],
   "source": [
    "df_tables = pd.read_sql(\"\"\"SELECT table_schema, table_name\n",
    "                          FROM information_schema.tables\n",
    "                          order by table_schema, table_name;\"\"\", conn)"
   ]
  },
  {
   "cell_type": "code",
   "execution_count": null,
   "metadata": {
    "collapsed": true
   },
   "outputs": [],
   "source": [
    "df_tables.head()"
   ]
  },
  {
   "cell_type": "markdown",
   "metadata": {},
   "source": [
    "The table `information_schema.tables` contains information about all tables in the database. This comes in handy when you forget a tablename. "
   ]
  },
  {
   "cell_type": "markdown",
   "metadata": {},
   "source": [
    "# The Machine Learning Process\n",
    "*[Go back to Table of Contents](#table-of-contents)*\n",
    "\n",
    "- [**Understand the problem and goal.**](#problem-formulation) *This sounds obvious but is often nontrivial.* Problems typically start as vague \n",
    "descriptions of a goal - improving health outcomes, increasing graduation rates, understanding the effect of a \n",
    "variable *X* on an outcome *Y*, etc. It is really important to work with people who understand the domain being\n",
    "studied to dig deeper and define the problem more concretely. What is the analytical formulation of the metric \n",
    "that you are trying to optimize?\n",
    "- [**Formulate it as a machine learning problem.**](#problem-formulation) Is it a classification problem or a regression problem? Is the \n",
    "goal to build a model that generates a ranked list prioritized by risk, or is it to detect anomalies as new data \n",
    "come in? Knowing what kinds of tasks machine learning can solve will allow you to map the problem you are working on\n",
    "to one or more machine learning settings and give you access to a suite of methods.\n",
    "- **Data exploration and preparation.** Next, you need to carefully explore the data you have. What additional data\n",
    "do you need or have access to? What variable will you use to match records for integrating different data sources?\n",
    "What variables exist in the data set? Are they continuous or categorical? What about missing values? Can you use the \n",
    "variables in their original form, or do you need to alter them in some way?\n",
    "- [**Feature engineering.**](#feature-generation) In machine learning language, what you might know as independent variables or predictors \n",
    "or factors or covariates are called \"features.\" Creating good features is probably the most important step in the \n",
    "machine learning process. This involves doing transformations, creating interaction terms, or aggregating over data\n",
    "points or over time and space.\n",
    "- **Method selection.** Having formulated the problem and created your features, you now have a suite of methods to\n",
    "choose from. It would be great if there were a single method that always worked best for a specific type of problem. Typically, in machine learning, you take a variety of methods and try them, empirically validating which one is the best approach to your problem.\n",
    "- [**Evaluation.**](#evaluation) As you build a large number of possible models, you need a way choose the best among them. We'll cover methodology to validate models on historical data and discuss a variety of evaluation metrics. The next step is to validate using a field trial or experiment.\n",
    "- [**Deployment.**](#deployment) Once you have selected the best model and validated it using historical data as well as a field\n",
    "trial, you are ready to put the model into practice. You still have to keep in mind that new data will be coming in,\n",
    "and the model might change over time.\n",
    "\n",
    "\n",
    "\n",
    "You're probably used to fitting models in physical or social science classes. In those cases, you probably had a hypothesis or theory about the underlying process that gave rise to your data, chose an appropriate model based on prior knowledge and fit it using least squares, and used the resulting parameter or coefficient estimates (or confidence intervals) for inference. This type of modeling is very useful for *interpretation*.\n",
    "\n",
    "In machine learning, our primary concern is *generalization*. This means that:\n",
    "- **We care less about the structuire of the model and more about the performance** This means that we'll try out a whole bunch of models at a time and choose the one that works best, rather than determining which model to use ahead of time. We can then choose to select a *suboptimal* model if we care about a specific model type. \n",
    "- **We don't (necessarily) want the model that best fits the data we've *already seen*, but rather the model that will perform the best on *new data*.** This means that we won't gauge our model's performance using the same data that we used to fit the model (e.g. sum of squared errors or $R^2$), and that \"best fit\" or accuracy will most often *not* determine the best model.  \n",
    "- **We can include a lot of variables in to the model.** This may sound like the complete opposite of what you've heard in the past, and it can be hard to swallow. But we will use different methods to deal with many of those concerns in the model fitting process by using a more automatic variable selection process."
   ]
  },
  {
   "cell_type": "markdown",
   "metadata": {},
   "source": [
    "# Problem Formulation\n",
    "*[Go back to Table of Contents](#table-of-contents)*\n",
    "\n",
    "First, turning something into a real objective function. What do you care about? Do you have data on that thing? What action can you take based on your findings? Do you risk introducing any bias based on the way you model something? \n",
    "\n",
    "## Four Main Types of ML Tasks for Policy Problems\n",
    "- **Description**: [How can we identify and respond to the most urgent online government petitions?](https://dssg.uchicago.edu/project/improving-government-response-to-citizen-requests-online/)\n",
    "- **Prediction**: [Which students will struggle academically by third grade?](https://dssg.uchicago.edu/project/predicting-students-that-will-struggle-academically-by-third-grade/)\n",
    "- **Detection**: [Which police officers are likely to have an adverse interaction with the public?](https://dssg.uchicago.edu/project/expanding-our-early-intervention-system-for-adverse-police-interactions/)\n",
    "- **Behavior Change**: [How can we prevent juveniles from interacting with the criminal justice system?](https://dssg.uchicago.edu/project/preventing-juvenile-interactions-with-the-criminal-justice-system/)\n",
    "  \n",
    "## Our Machine Learning Problem\n",
    ">Of all prisoners released we would like to predict who is likely to reenter jail within *5* years of the day we make our prediction. For instance, say it is Dec 31, 2004 and we want to identify which \n",
    ">prisoners are likely to re-enter jail between now and 2015. We can run our predictive model and identify who\n",
    ">is most likely at risk of recidivism. The is an example of a *binary prediction classification* problem. \n",
    "\n",
    "Note the outcome window of 5 years is completely arbitrary. You could use a window of 5, 3, 1 years or 1 day. The outcome window will depend on how often you receive new data -- there is no sense in making the same predictions on the same data -- how accurate your predictions are for a given time period or on what time-scale you can use the output of the data. \n",
    "\n",
    "# Data Exploration and Preparation. \n",
    "\n",
    "We have already explored the data in the first module and database modules. In order to predict recidivism, we will be using data from the `ildoc_admit` and `ildoc_exit` table to create **labels** and **features**. \n",
    "\n",
    "\n",
    "## Building a Model\n",
    "\n",
    "We need to munge our dataset into **features** (predictors, or dependent variables, or $X$ variables) and **labels** (independent variables, or $Y$ variables).  For ease of reference, in subsequent examples, names of variables that pertain to predictors will start with \"`X_`\", and names of variables that pertain to outcome variables will start with \"`y_`\".\n",
    "\n"
   ]
  },
  {
   "cell_type": "markdown",
   "metadata": {},
   "source": [
    "## Creating Labels\n",
    "\n",
    "Labels are the indendent variables, or *Y* variables, that we are trying to predict. In the machine learning framework, your labels are usually *binary*: true or false, encoded as 1 or 0. In this case, our label is whether a person is readmitted into prison within five years of the day of the prediction. Our data spans from 1989-2015, approximately 25 years. Let's create a smaller dataset to predict whether someone will be readmitted to prison between 2005 and 2010. \n",
    "\n",
    "We can write SQL code in `psql`, `dbeaver`, `pgAdmin`, or programmaticaly generate the SQL and pass to the DB using `psycopg2` to create the labels. Here is the SQL code for developing labels: \n",
    "```\n",
    "-- creating labels for the training set. Of all the people (docnbr) that exited before the\n",
    "-- end of 2005 get the discharge date for all prisoners release dates \n",
    "\n",
    "--release dates table grabs the docnbr and release year for all exists in the data\n",
    "drop table if exists release_dates;\n",
    "create table release_dates as\n",
    "select docnbr, actdisyr, actmsryr,\n",
    "case when actdisyr = 0 or actdisyr is null then actmsryr else actdisyr end release_yr\n",
    "from ildoc_exit;\n",
    "\n",
    "--grab the docnbr and release years for everyone from the years 1989-2005\n",
    "--using are previous release_dates table\n",
    "drop table if exists release_dates_1989_2005;\n",
    "create temp table release_dates_1989_2005 as\n",
    "select docnbr, release_yr\n",
    "from release_dates\n",
    "where release_yr between 1989 and 2005;\n",
    "\n",
    "--there are cases where people have entered and existed prison\n",
    "--multiple times, in those cases grab the last release year in \n",
    "--our time range. \n",
    "drop table if exists last_exit_1989_2005;\n",
    "create temp table last_exit_1989_2005 as\n",
    "select docnbr, max(release_yr) last_release_yr\n",
    "from release_dates_1989_2005\n",
    "group by docnbr;\n",
    "\n",
    "--find the peple admitted from 2006 to 2010. \n",
    "drop table if exists admit_2006_2010;\n",
    "create temp table admit_2006_2010 as\n",
    "select docnbr, curadmyr\n",
    "from ildoc_admit\n",
    "where curadmyr between 2006 and 2010;\n",
    "\n",
    "--join the exit and admit data where 0 is for no readmit\n",
    "-- and 1 for readmit\n",
    "drop table if exists recidivism_2005_2010;\n",
    "create temp table recidivism_2005_2010 as\n",
    "select r.docnbr, r.last_release_yr, a.curadmyr,\n",
    "case when a.curadmyr is null then 0 else 1 end recidivism\n",
    "from last_exit_1989_2005 r\n",
    "left join admit_2006_2010 a on r.docnbr = a.docnbr;\n",
    "\n",
    "-- create the labels table\n",
    "drop table if exists recidivism_labels_2005_2010;\n",
    "create table recidivism_labels_2005_2010 as\n",
    "select distinct docnbr, recidivism\n",
    "from recidivism_2005_2010;\n",
    "\n",
    "```"
   ]
  },
  {
   "cell_type": "markdown",
   "metadata": {},
   "source": [
    "In this SQL script, we first created the table `release_dates` where we took the docnbr (unique identifier) and created a new field `release_yr` which takes on the value of `actmsryr` if `actdisyr` is null or zero. Since prisoners are either released through supervised work release, `actmsryr`, or discharged directly from prison, `actdisyr`, we take the value of  `actdisyr` if it exists, or `actmsryr` if `actdisyr` doesn't exist. \n",
    "\n",
    "Next we created a table `release_dates_1989_2005`, which used the `release_dates` table we just created. We took all of the records for `docnbr` and `release_yr` between 1989 and 2005. Next we created a table `last_exit_1989_2005`, which takes the *maximum* (most recent) `release_yr` for every `docnbr` and writes into `last_exit_1989_2005`. This table will only have one entry per `doc_nbr`, so for any given `docnbr`, or individual, we know their *most recent* release year.\n",
    "\n",
    "We then find everyone admitted into prison between 2006 and 2010, and do a `left join`  on the `last_exit_1989_2005` (left) table and the `recidivism_2005_2010` (right) table on the `docnbr` field. The resulting table will keep all the entries from the *left* table (most recent releases between 1989 and 2005) and add their admits between 2006 and 2010. "
   ]
  },
  {
   "cell_type": "code",
   "execution_count": null,
   "metadata": {
    "collapsed": true
   },
   "outputs": [],
   "source": [
    "def create_labels(prediction_date, prediction_horizon, conn, overwrite=False):\n",
    "    \"\"\"\n",
    "    Generate a list of labels and return the \n",
    "    table as a dataframe.\n",
    "    \n",
    "    Parameters\n",
    "    ----------\n",
    "    prediction_date: int\n",
    "        for simplicity, we will use just the year and assume 2006 means 1/1/2006\n",
    "    prediction_horizon: int\n",
    "        number of years within which we want to predict if they re-enter prison.\n",
    "        for example, for prediction_date = 2006 and prediction_horizon = 5, we will get everyone\n",
    "        who re-entered from 1/1/2006 to 12/31/2010\n",
    "    overwrite: bool\n",
    "        if True runs the query if table does\n",
    "        not exist\n",
    "    conn: obj\n",
    "        psycopg2 conection object to database\n",
    "        \n",
    "    Returns\n",
    "    -------\n",
    "    df_labels: DataFrame\n",
    "        Dataframe of labels\n",
    "    \"\"\"\n",
    "    begin_range = prediction_date\n",
    "    end_range = prediction_date + prediction_horizon\n",
    "    \n",
    "    # check if the table you're trying to create already exists\n",
    "    cursor = conn.cursor()\n",
    "    query = \"\"\"\n",
    "            select * from information_schema.tables \n",
    "            where table_name=\\'recidivism_labels_{begin_range}_{end_range}\\'\n",
    "            \"\"\".format(begin_range=begin_range,\n",
    "                      end_range=end_range);\n",
    "    cursor.execute(query) \n",
    "    \n",
    "    if not(cursor.rowcount) or overwrite:\n",
    "        print('generating labels')\n",
    "        sql_script=\"\"\"\n",
    "    -- creating labels for the training set. Of all the people (docnbr) that exited before \n",
    "    --  {begin_range}\n",
    "\n",
    "    -- get the discharge date for all prisoners release dates \n",
    "    drop table if exists class1.release_dates;\n",
    "    create table class1.release_dates as\n",
    "    select docnbr, actdisyr, actmsryr,\n",
    "    case when actdisyr = 0 or actdisyr is null then actmsryr else actdisyr end release_yr\n",
    "    from ildoc.ildoc_exit;\n",
    "\n",
    "    commit;\n",
    "\n",
    "--grab the docnbur and release years for everyone from the years 1989 to the day before our prediction date\n",
    "--generate labels\n",
    "drop table if exists class1.release_dates_1989_{begin_range};\n",
    "create temp table release_dates_1989_{begin_range} as\n",
    "select docnbr, release_yr\n",
    "from class1.release_dates\n",
    "where release_yr >= 1989 and release_yr < {begin_range};\n",
    "\n",
    "commit;\n",
    "\n",
    "-- find the last time they exited from the previous table\n",
    "drop table if exists class1.last_exit_1989_{begin_range};\n",
    "create temp table last_exit_1989_{begin_range} as\n",
    "select docnbr, max(release_yr) last_release_yr\n",
    "from release_dates_1989_{begin_range}\n",
    "group by docnbr;\n",
    "\n",
    "commit;\n",
    "\n",
    "-- generate a table that gives us all admits that happen between our start and end dates for labels\n",
    "drop table if exists class1.admit_{begin_range}_{end_range};\n",
    "create temp table admit_{begin_range}_{end_range} as\n",
    "select docnbr, curadmyr\n",
    "from ildoc.ildoc_admit\n",
    "where curadmyr >= {begin_range} and  curadmyr < {end_range};\n",
    "\n",
    "commit;\n",
    "\n",
    "-- for all people released between 1989 and the date of prediction, check to see if they were admitted again \n",
    "-- during our begin and end dates\n",
    "drop table if exists class1.recidivism_{begin_range}_{end_range};\n",
    "create temp table recidivism_{begin_range}_{end_range} as\n",
    "select r.docnbr, r.last_release_yr, a.curadmyr,\n",
    "case when a.curadmyr is null then 0 else 1 end recidivism\n",
    "from last_exit_1989_{begin_range} r\n",
    "left join admit_{begin_range}_{end_range} a on r.docnbr = a.docnbr;\n",
    "\n",
    "commit;\n",
    "\n",
    "-- drop duplicates\n",
    "drop table if exists class1.recidivism_labels_{begin_range}_{end_range};\n",
    "create table class1.recidivism_labels_{begin_range}_{end_range} as\n",
    "select distinct docnbr, recidivism\n",
    "from recidivism_{begin_range}_{end_range};\n",
    "commit; \n",
    "\n",
    "    \"\"\".format(begin_range=begin_range,\n",
    "               end_range=end_range)\n",
    "    \n",
    "        cursor.execute(sql_script)\n",
    "    else:\n",
    "        print('Table already generated')\n",
    "    \n",
    "    cursor.close()\n",
    "    df_label = pd.read_sql('select * from class1.recidivism_labels_{begin_range}_{end_range}'.format(\n",
    "                                                                                    begin_range=begin_range,\n",
    "                                                                                    end_range=end_range), conn)\n",
    "    \n",
    "    return df_label"
   ]
  },
  {
   "cell_type": "code",
   "execution_count": null,
   "metadata": {
    "collapsed": true
   },
   "outputs": [],
   "source": [
    "# Now we can generate labels for two time periods, one starting on 2006 and another starting in 2011\n",
    "\n",
    "df_label_2006_2011 = create_labels(2006, 5, conn)\n",
    "df_label_2011_2016 = create_labels(2011, 5, conn)\n"
   ]
  },
  {
   "cell_type": "code",
   "execution_count": null,
   "metadata": {
    "collapsed": true
   },
   "outputs": [],
   "source": [
    "df_label_2006_2011.head()"
   ]
  },
  {
   "cell_type": "markdown",
   "metadata": {},
   "source": [
    "Now we have a label: 0 indicates *no recidivism*, 1 indicates that person did return to jail within the outcome period (beginning of 2006 to end 2010). "
   ]
  },
  {
   "cell_type": "markdown",
   "metadata": {},
   "source": [
    "## Feature Generation\n",
    "*[Go back to Table of Contents](#table-of-contents)*\n",
    "\n",
    "\n",
    "Our features are our dependent variables or predictors. Good features make machine learning systems effective. \n",
    "The better the features the easier it is the capture the structure of the data. You generate features by a combination of domain knowledge. In general, it is better to have more complex features and a simpler model rather than vice versa. Keeping the model simple makes it faster to train and easier to understand rather then extensively searching for the \"right\" model and \"right\" set of parameters. \n",
    "\n",
    "Machine Learning Algorithms learn a solution to a problem from sample data. The set of features is the best representation of the sample data to learn a solution to a problem. \n",
    "\n",
    "- **Feature engineering** is the process of transforming raw data into features that better represent the underlying problem/data/structure  to the predictive models, resulting in improved model accuracy on unseen data.\" ( from [Discover Feature Engineering](http://machinelearningmastery.com/discover-feature-engineering-how-to-engineer-features-and-how-to-get-good-at-it/) ).  In text, for example, this might involve deriving traits of the text like word counts, verb counts, or topics to feed into a model rather than simply giving it the raw text.\n",
    "\n",
    "Example of feature engineering are: \n",
    "\n",
    "- **Transformations**, such a log, square, and square root.\n",
    "- **Dummy (binary) variables**, also known as *indicator variables*, often done by taking categorical variables\n",
    "(such as city) which do not have a numerical value, and adding them to models as a binary value.\n",
    "- **Discretization**. Several methods require features to be discrete instead of continuous. This is often done \n",
    "by binning, which you can do by equal width. \n",
    "- **Aggregation.** Aggregate features often constitute the majority of features for a given problem. These use \n",
    "different aggregation functions (*count, min, max, average, standard deviation, etc.*) which summarize several\n",
    "values into one feature, aggregating over varying windows of time and space. For example, given urban data, \n",
    "we would want to calculate the *number* (and *min, max, mean, variance*, etc.) of crimes within an *m*-mile radius\n",
    "of an address in the past *t* months for varying values of *m* and *t*, and then use all of them as features.\n",
    "\n",
    "Our preliminary features are the following\n",
    "\n",
    "- `nadmits` (Aggregation): Number of times someone has been addmitted to prison between 1989-2005. The more times someone has been to prison the more times they are likely continue to be arrested. \n",
    "\n",
    "- `age_first_admit` (Transformation): The age someone was first admitted to prison. This is calculated by subtracting their `birth_yr` from the year they were first admitted into prison. The idea behind creating this feature is that people who are younger when they are first arrested are more likely to be arrested again. \n",
    "\n",
    "- `gang` (Binary): A binary (true/false) indicator of whether the person has ever been in a gang. This feature takes whatever gang membership (e.g., VL, LK BPM) and encodes affiliation as 1 and no affiliation (NULL) as 0.  \n",
    "\n",
    "- `married` (Binary): If the `marstat` field is `M`, then `married` is 1, or else it is 0 for any other categories, such as Single (`S`), Divorced (`D`), Widowed (`W`). \n",
    "\n",
    "- `job` (Binary): Does the person have a job lined up when they are released from prison: `Y` (1) or `N` (0), using the field `empplanf`. \n",
    "\n",
    "- `vetf` (Binary): Is the individual a veteran? `Y` (1) or `N`(0).\n",
    "\n",
    "- (`drugalcf, drugcocf, drugampf, drugmarf, drugherf, drugpcpf, drughothf, drugunkf`) (Binary): Used alcohol, cocaine, marijuana, heroin, pcp, other, unknown, respectively. For each field, `1` (positive) or `0` (negative).\n",
    "\n",
    "- `educlvl` (Binary): `1` for graduated high school or above, `0` otherwise.(*Caution: I belive the meaning of the values of this field changed overtime*) \n",
    "\n",
    "- `crtfind` (Binary): `1` for habitual offender or repeated abuser of children, `0` otherwise (as determined by the court). "
   ]
  },
  {
   "cell_type": "markdown",
   "metadata": {},
   "source": [
    "SQL script to make features: \n",
    "```\n",
    "-------------------------------------------------------------------------------\n",
    "-- create features ------------------------------------------------------------\n",
    "-------------------------------------------------------------------------------\n",
    "\n",
    "-- number of admits\n",
    "drop table if exists feature_nadmits_1989_2005;\n",
    "create table feature_nadmits_1989_2005 as\n",
    "select docnbr, count(*) nadmits\n",
    "from ildoc_admit\n",
    "where docnbr in (select docnbr from recidivism_labels_2005_2010)\n",
    "and curadmyr between 1988 and 2005\n",
    "group by docnbr;\n",
    "\n",
    "--NOTE: There are about ### people that have no admit record. They likely entered\n",
    "--into the sytem before ####. \n",
    "\n",
    "-- age at first arrest\n",
    "drop table if exists docnbr_admityr;\n",
    "\n",
    "create temp table docnbr_admityr as\n",
    "select docnbr, min(curadmyr) min_admityr\n",
    "from ildoc_admit\n",
    "group by docnbr;\n",
    "\n",
    "-- join the table with the person birthyr columns\n",
    "drop table if exists age_first_admit_birth_year;\n",
    "\n",
    "create temp table age_first_admit_birth_year as\n",
    "select da.docnbr, da.min_admityr, p.birth_year\n",
    "from docnbr_admityr da\n",
    "left join person p on da.docnbr = p.ildoc_docnbr;\n",
    "\n",
    "--calculate the age at the first arrest \n",
    "\n",
    "drop table if exists feature_age_first_admit;\n",
    "\n",
    "create table feature_age_first_admit as\n",
    "select docnbr, (min_admityr - birth_year) age_first_admit\n",
    "from age_first_admit_birth_year;\n",
    "\n",
    "drop table if exists feature_agefirstadmit;\n",
    "create table feature_agefirstadmit as\n",
    "select docnbr, age_first_admit\n",
    "from feature_age_first_admit\n",
    "where docnbr in (select docnbr from feature_nadmits_1989_2005);\n",
    "\n",
    "-- categorical features\n",
    "drop table if exists categorical_features_1989_2005,\n",
    "                     cat_features_1989_2005;\n",
    "\n",
    "create temp table cat_features_1989_2005 as\n",
    "select a.*,\n",
    " to_date(LPAD(a.actmsrdt::text,8,'0'), 'MMDDYYYY') dactmsrdt,\n",
    " to_date(LPAD(a.actdisdt::text,8,'0'), 'MMDDYYYY') dactdisdt\n",
    "from ( select docnbr, gang, kids, marstat, empplanf, educlvl, vetf, crtfind1, drugalcf, drugcocf,\n",
    "drugampf, drugmarf, drugherf, drugpcpf, drugothf, drugunkf, actdisyr, actdisdt,\n",
    "actmsryr, actmsrdt\n",
    "from ildoc_exit\n",
    "where  docnbr in (select docnbr from last_exit_1989_2005)) a;\n",
    "\n",
    "--alter table cat_features_1989_2005 add column dactmsryr date; \n",
    "--update cat_features_1989_2005 set dactmsryr = to_date(LPAD(actmsrdt::text, 8,'0'));\n",
    "\n",
    "drop table if exists tcat_features_1989_2005;\n",
    "create temp table tcat_features_1989_2005 as\n",
    "select t.*,\n",
    "case when t.actdisyr is null or t.actdisyr = 0 then t.dactmsrdt else t.dactdisdt end release_dt\n",
    "from (select * from cat_features_1989_2005) t;\n",
    "\n",
    "\n",
    "alter table tcat_features_1989_2005\n",
    "drop column actdisyr,\n",
    "drop column actdisdt,\n",
    "drop column actmsryr,\n",
    "drop column actmsrdt,\n",
    "drop column dactmsrdt,\n",
    "drop column dactdisdt;\n",
    "\n",
    "drop table if exists pre_categorical_features_1989_2005;\n",
    "\n",
    "create temp table pre_categorical_features_1989_2005 as\n",
    "select g.*\n",
    "from ( select t.*, rank() over (partition by docnbr order by release_dt desc)\n",
    "from (select * from tcat_features_1989_2005) t ) g\n",
    "where g.rank = 1;\n",
    "\n",
    "drop table if exists raw_categorical_features_1989_2005;\n",
    "\n",
    "create temp table raw_categorical_features_1989_2005 as\n",
    "select distinct * from pre_categorical_features_1989_2005;\n",
    "\n",
    "drop table if exists categorical_features_1989_2005;\n",
    "\n",
    "create temp table pre_categorical_features_1989_2005 as\n",
    "select g.*\n",
    "from ( select t.*, rank() over (partition by docnbr order by release_dt desc)\n",
    "from (select * from tcat_features_1989_2005) t ) g\n",
    "where g.rank = 1;\n",
    "\n",
    "drop table if exists raw_categorical_features_1989_2005;\n",
    "\n",
    "create temp table raw_categorical_features_1989_2005 as\n",
    "select distinct * from pre_categorical_features_1989_2005;\n",
    "\n",
    "drop table if exists categorical_features_1989_2005;\n",
    "\n",
    "create table categorical_features_1989_2005 as\n",
    "select\n",
    "        docnbr,\n",
    "        case when gang is null then 0 else 1 end gang,\n",
    "        case when kids > 0 then 1 else 0 end kids,\n",
    "        case when marstat = 'M' then 1 else 0 end married,\n",
    "        case when empplanf = 'Y' then 1 else 0 end job,\n",
    "        case when educlvl in ('HS', 'GD','T1','T2','T3','T4','12','13',\n",
    "        '14','15','16','17') then 1\n",
    "              else 0 end educlvl,\n",
    "        case when crtfind1 in ('HB', 'HCO') then 1 else 0 end crtfind,\n",
    "        case when vetf = 'Y' then 1 else 0 end vetf,\n",
    "        case when drugalcf in ('F','X') then 1 else 0 end drugalcf,\n",
    "        case when drugcocf in ('F','X') then 1 else 0 end drugcocf,\n",
    "        case when drugampf in ('F','X') then 1 else 0 end drugampf,\n",
    "        case when drugmarf in ('F','X') then 1 else 0 end drugmarf,\n",
    "        case when drugherf in ('F','X') then 1 else 0 end drugherf,\n",
    "        case when drugpcpf in ('F','X') then 1 else 0 end drugpcpf,\n",
    "        case when drugothf in ('F','X') then 1 else 0 end drugothf,\n",
    "        case when drugunkf in ('F','X') then 1 else 0 end drugunkf\n",
    "from raw_categorical_features_1989_2005;\n",
    "\n",
    "-- create the age features \n",
    "drop table if exists feature_age_2005;\n",
    "create table feature_age_2005 as\n",
    "select ildoc_docnbr, (2005 - birth_year) age  from person\n",
    "where ildoc_docnbr in (select docnbr from feature_nadmits_1989_2005);\n",
    "\n",
    "-- join all features table together to make the feature table\n",
    "\n",
    "drop table if exists features_1989_2005;\n",
    "create table features_1989_2005 as\n",
    "select  f1.docnbr,\n",
    "        f1.nadmits,\n",
    "        f2.age_first_admit,\n",
    "        f3.gang,\n",
    "        f3.kids,\n",
    "        f3.married,\n",
    "        f3.job,\n",
    "        f3.vetf,\n",
    "        f3.drugalcf,\n",
    "        f3.drugcocf,\n",
    "        f3.drugampf,\n",
    "        f3.drugmarf,\n",
    "        f3.drugherf,\n",
    "        f3.drugpcpf,\n",
    "        f3.drugothf,\n",
    "        f3.drugunkf,\n",
    "        f3.educlvl,\n",
    "        f3.crtfind,\n",
    "        f4.age\n",
    "from feature_nadmits_1989_2005 f1\n",
    "left join feature_agefirstadmit f2 on f2.docnbr = f1.docnbr\n",
    "left join categorical_features_1989_2005 f3 on f1.docnbr = f3.docnbr\n",
    "left join feature_age_2005 f4 on f1.docnbr = f4.ildoc_docnbr;\n",
    "\n",
    "-- create training set to make cross-tabs with \n",
    "drop table if exists training_set_1989_2005;\n",
    "\n",
    "create table training_set_1989_2005 as\n",
    "select f1.*, r.recidivism from features_1989_2005 f1\n",
    "join recidivism_labels_2005_2010 r on f1.docnbr = r.docnbr\n",
    "\n",
    "\n",
    "```"
   ]
  },
  {
   "cell_type": "code",
   "execution_count": null,
   "metadata": {
    "collapsed": true
   },
   "outputs": [],
   "source": [
    "def create_features(prediction_date, prediction_horizon, conn, overwrite=False):\n",
    "    \"\"\"\n",
    "    Generate a list of features and return the \n",
    "    table as a dataframe.\n",
    "    \n",
    "    Note: There has to be a table of labels that\n",
    "    correspond with the same time period. \n",
    "    \n",
    "    Parameters\n",
    "    ----------\n",
    "    prediction_date: int\n",
    "        year to make prediction from\n",
    "        (e.g., 2005 corresponds to Dec 31, 2005)\n",
    "    conn: obj\n",
    "        psycopg2 conection object to database\n",
    "    overwrite: bool\n",
    "        If True will run SQL script if tables\n",
    "        do not exist. \n",
    "        \n",
    "    Returns\n",
    "    -------\n",
    "    table_name: str\n",
    "        name of table with features\n",
    "    \"\"\"\n",
    "    begin_range = prediction_date\n",
    "    end_range = prediction_date + prediction_horizon\n",
    "        \n",
    "    cursor = conn.cursor()\n",
    "    query = \"\"\"\n",
    "            select exists(select * from information_schema.tables \n",
    "            where table_name=\\'features_1989_{begin_range}\\')\n",
    "            \"\"\".format(begin_range=begin_range)\n",
    "    cursor.execute(query)\n",
    "    \n",
    "    if not(cursor.rowcount) or overwrite:\n",
    "\n",
    "    \n",
    "        sql_script=\"\"\"\n",
    "    -------------------------------------------------------------------------------\n",
    "    -- create features ------------------------------------------------------------\n",
    "    -------------------------------------------------------------------------------\n",
    "\n",
    "-- for everyone in our labels table, we want to count number of\n",
    "-- times they've been admitted as of the prediction_date\n",
    "\n",
    "drop table if exists class1.feature_nadmits_1989_{begin_range};\n",
    "create table class1.feature_nadmits_1989_{begin_range} as \n",
    "select docnbr, count(*) nadmits\n",
    "from ildoc.ildoc_admit\n",
    "where docnbr in (select docnbr from class1.recidivism_labels_{begin_range}_{end_range})\n",
    "and curadmyr > 1988 and curadmyr < {begin_range}\n",
    "group by docnbr;  \n",
    "\n",
    "commit; \n",
    "--NOTE: There are about 7000 people that have no admit record. They likely entered\n",
    "--into the sytem before 1989. \n",
    "\n",
    "-- age at first arrest\n",
    "\n",
    "-- step 1: get date of first admit\n",
    "drop table if exists docnbr_admityr;\n",
    "create temp table docnbr_admityr as\n",
    "select docnbr, min(curadmyr) min_admityr\n",
    "from ildoc.ildoc_admit\n",
    "group by docnbr;\n",
    "\n",
    "commit; \n",
    "\n",
    "-- join the date of first admit to the table with the person birthyr columns\n",
    "drop table if exists age_first_admit_birth_year;\n",
    "create temp table age_first_admit_birth_year as\n",
    "select da.docnbr, da.min_admityr, p.birth_year\n",
    "from docnbr_admityr da\n",
    "left join class1.person p on da.docnbr = p.ildoc_docnbr;\n",
    "\n",
    "commit; \n",
    "\n",
    "--now we can calculate the age at the first admit \n",
    "\n",
    "drop table if exists class1.feature_age_first_admit; \n",
    "create table class1.feature_age_first_admit as\n",
    "select docnbr, (min_admityr - birth_year) age_first_admit\n",
    "from age_first_admit_birth_year;\n",
    "\n",
    "commit; \n",
    "\n",
    "drop table if exists class1.feature_agefirstadmit; \n",
    "create table class1.feature_agefirstadmit as \n",
    "select docnbr, age_first_admit\n",
    "from class1.feature_age_first_admit\n",
    "where docnbr in (select docnbr from class1.feature_nadmits_1989_{begin_range}); \n",
    "\n",
    "commit; \n",
    "\n",
    "-- now let's create some categorical features\n",
    "drop table if exists categorical_features_1989_{begin_range},\n",
    "                     cat_features_1989_{begin_range};\n",
    "create temp table cat_features_1989_{begin_range} as\n",
    "select a.*, \n",
    " to_date(LPAD(a.actmsrdt::text,8,'0'), 'MMDDYYYY') dactmsrdt,\n",
    " to_date(LPAD(a.actdisdt::text,8,'0'), 'MMDDYYYY') dactdisdt\n",
    "from ( select docnbr, gang, kids, marstat, empplanf, educlvl, vetf, crtfind1, drugalcf, drugcocf,\n",
    "drugampf, drugmarf, drugherf, drugpcpf, drugothf, drugunkf, actdisyr, actdisdt,\n",
    "actmsryr, actmsrdt\n",
    "from ildoc.ildoc_exit\n",
    "where  docnbr in (select docnbr from last_exit_1989_{begin_range})) a;\n",
    "\n",
    "commit; \n",
    "\n",
    "\n",
    "\n",
    "drop table if exists tcat_features_1989_{begin_range}; \n",
    "create temp table tcat_features_1989_{begin_range} as \n",
    "select t.*,\n",
    "case when t.actdisyr is null or t.actdisyr = 0 then t.dactmsrdt else t.dactdisdt end release_dt\n",
    "from (select * from cat_features_1989_{begin_range}) t; \n",
    "\n",
    "alter table tcat_features_1989_{begin_range} \n",
    "drop column actdisyr,\n",
    "drop column actdisdt, \n",
    "drop column actmsryr,\n",
    "drop column actmsrdt,\n",
    "drop column dactmsrdt,\n",
    "drop column dactdisdt; \n",
    "\n",
    "commit; \n",
    "\n",
    "drop table if exists pre_categorical_features_1989_{begin_range}; \n",
    "create temp table pre_categorical_features_1989_{begin_range} as \n",
    "select g.* \n",
    "from ( select t.*, rank() over (partition by docnbr order by release_dt desc)\n",
    "from (select * from tcat_features_1989_{begin_range}) t ) g\n",
    "where g.rank = 1;\n",
    "\n",
    "commit; \n",
    "\n",
    "drop table if exists raw_categorical_features_1989_{begin_range}; \n",
    "create temp table raw_categorical_features_1989_{begin_range} as\n",
    "select distinct * from pre_categorical_features_1989_{begin_range}; \n",
    "\n",
    "commit; \n",
    "\n",
    "drop table if exists class1.categorical_features_1989_{begin_range}; \n",
    "create table class1.categorical_features_1989_{begin_range} as \n",
    "select\n",
    "\tdocnbr,  \n",
    "\tcase when gang is null then 0 else 1 end gang,\n",
    "\tcase when kids > 0 then 1 else 0 end kids,\n",
    "\tcase when marstat = 'M' then 1 else 0 end married,\n",
    "\tcase when empplanf = 'Y' then 1 else 0 end job,\n",
    "\tcase when educlvl in ('HS', 'GD','T1','T2','T3','T4','12','13',\n",
    "\t'14','15','16','17') then 1\n",
    "\t      else 0 end educlvl,\n",
    "\tcase when crtfind1 in ('HB', 'HCO') then 1 else 0 end crtfind,\n",
    "\tcase when vetf = 'Y' then 1 else 0 end vetf,\n",
    "\tcase when drugalcf in ('F','X') then 1 else 0 end drugalcf,\n",
    "\tcase when drugcocf in ('F','X') then 1 else 0 end drugcocf,\n",
    "\tcase when drugampf in ('F','X') then 1 else 0 end drugampf,\n",
    "\tcase when drugmarf in ('F','X') then 1 else 0 end drugmarf,\n",
    "\tcase when drugherf in ('F','X') then 1 else 0 end drugherf,\n",
    "\tcase when drugpcpf in ('F','X') then 1 else 0 end drugpcpf,\n",
    "\tcase when drugothf in ('F','X') then 1 else 0 end drugothf,\n",
    "\tcase when drugunkf in ('F','X') then 1 else 0 end drugunkf\n",
    "from raw_categorical_features_1989_{begin_range}; \n",
    "\n",
    "commit; \n",
    "\n",
    "-- create the age features \n",
    "drop table if exists class1.feature_age_{begin_range}; \n",
    "create table class1.feature_age_{begin_range} as\n",
    "select ildoc_docnbr, ({begin_range} - birth_year) age  from class1.person \n",
    "where ildoc_docnbr in (select docnbr from class1.feature_nadmits_1989_{begin_range});\n",
    "\n",
    "commit; \n",
    "\n",
    "-- join all features table together to make the feature table\n",
    "drop table if exists class1.features_1989_{begin_range}; \n",
    "create table class1.features_1989_{begin_range} as \n",
    "select \tf1.docnbr,\n",
    "       \tf1.nadmits,\n",
    "       \tf2.age_first_admit,\n",
    "       \tf3.gang,\n",
    "\tf3.kids,\n",
    "\tf3.married,\n",
    "\tf3.job,\n",
    "\tf3.vetf,\n",
    "\tf3.drugalcf,\n",
    "\tf3.drugcocf,\n",
    "\tf3.drugampf,\n",
    "\tf3.drugmarf,\n",
    "\tf3.drugherf,\n",
    "\tf3.drugpcpf,\n",
    "\tf3.drugothf,\n",
    "\tf3.drugunkf,\n",
    "\tf3.educlvl,\n",
    "\tf3.crtfind,\n",
    "\tf4.age \n",
    "from class1.feature_nadmits_1989_{begin_range} f1\n",
    "left join class1.feature_agefirstadmit f2 on f2.docnbr = f1.docnbr\n",
    "left join class1.categorical_features_1989_{begin_range} f3 on f1.docnbr = f3.docnbr\n",
    "left join class1.feature_age_{begin_range} f4 on f1.docnbr = f4.ildoc_docnbr; \n",
    "\n",
    "commit; \n",
    "\n",
    "\n",
    "    \"\"\".format(begin_range=begin_range, end_range = end_range)\n",
    "    \n",
    "    \n",
    "        cursor.execute(sql_script)\n",
    "    \n",
    "    cursor.close()\n",
    "    \n",
    "    print('created class1.features_1989_{begin_range}'.format(\n",
    "        begin_range=begin_range))\n",
    "    \n",
    "    table_name = 'class1.features_1989_' + str(begin_range)\n",
    "    return table_name      "
   ]
  },
  {
   "cell_type": "code",
   "execution_count": null,
   "metadata": {
    "collapsed": true
   },
   "outputs": [],
   "source": [
    "\n",
    "train_feature_table = create_features(2006,5,conn)\n",
    "test_feature_table = create_features(2011,5,conn)\n",
    "\n"
   ]
  },
  {
   "cell_type": "markdown",
   "metadata": {},
   "source": [
    "## Model Fitting\n",
    "*[Go back to Table of Contents](#table-of-contents)*\n",
    "\n",
    "It's not enough to just build the model; we're going to need a way to know whether or not it's working. Convincing others of the quality of results is often the *most challenging* part of an analysis.  Making repeatable, well-documented work with clear success metrics makes all the difference.\n",
    "\n",
    "To convince ourselves - and others - that our modeling results will generalize, we need to hold\n",
    "some data back (not using it to train the model), then apply our model to that hold-out set and \"blindly\" predict, comparing the model's predictions to what we actually observed. This is called **cross-validation**, and it's the best way we have to estimate how a model will perform on *entirely* novel data. We call the data used to build the model the **training set**, and the rest the **test set**.\n",
    "\n",
    "In general, we'd like our training set to be as large as possible, to give our model more information. However, you also want to be as confident as possible that your model will be applicable to new data, or else the model is useless. In practice, you'll have to balance these two objectives in a reasonable way.  \n",
    "\n",
    "There are also many ways to split up your data into training and testing sets. Since you're trying to evaluate how your model will perform *in practice*, it's best to emulate the true use case of your model as closely as possible when you decide how to evaluate it. A good [tutorial on cross-validation](http://scikit-learn.org/stable/modules/cross_validation.html) can be found on the `scikit-learn` site.\n",
    "\n",
    "One simple and commonly used method is ***k-fold* cross-validation**, which entails splitting up our dataset into *k* groups, holding out one group while training a model on the rest of the data, evaluating model performance on the held-out \"fold,\" and repeating this process *k* times (we'll get back to this in the text-analysis tutorial). Another method is **temporal validation**, which involves building a model using all the data up until a given point in time, and then testing the model on observations that happened after that point. Our problem of recidivism is a problem in time where we are trying to predcit an event in the future. Generally, if you use the future to predict the past there will be temporal effects that will help the accuracy of your predictions. We cannot use the future to predict the past in real life, so it is important to use `temporal validation` and create our training and test sets accordingly. \n",
    "\n",
    "Our training set uses labels from 2005-2010. Starting at the very end of 2004 (Dec 31, 2004) we found all people admitted into prison that had been previously admitted into prison before 2005. This forms our recidivism label. The features are then developed using data from before the beginning of our label range (2005) from 1989-2005. *Note: it is important to segregate your data based on time when creating features. Otherwise there can be \"leakage,\" where you accidentally use information that you would not have known at the time.*  This happens often when calculating aggregation features; for instance, it is quite easy to calculate an average using values that go beyond our training set time-span and not realize it.  \n",
    "\n",
    "Our testing set will use labels that fall between 2010-2015, and our features will be generated from 1989-2010. \n",
    "\n",
    "Notice that our testing set uses more data than our training set, because we have \"new\" data from 2005-2010. This emulates the way our models could be used in practice. Every five years we can run our model and make new predictions updating our dataset with the most recent five years of data. \n"
   ]
  },
  {
   "cell_type": "markdown",
   "metadata": {},
   "source": [
    "# Data Check "
   ]
  },
  {
   "cell_type": "code",
   "execution_count": null,
   "metadata": {
    "collapsed": true
   },
   "outputs": [],
   "source": [
    "# generate a matrix for training the models\n",
    "\n",
    "def create_train_or_test_matrix(feature_table_name, labels_table_name, matrix_name, conn, overwrite=False):\n",
    "    \"\"\"\n",
    "    joins feature table with the labels table to generate a matrix\n",
    "      \n",
    "    \n",
    "    Parameters\n",
    "    ----------\n",
    "        conn: obj\n",
    "        psycopg2 conection object to database\n",
    "    overwrite: bool\n",
    "        If True will run SQL script if tables\n",
    "        do not exist. \n",
    "        \n",
    "    Returns\n",
    "    -------\n",
    "    table\n",
    "        table with features\n",
    "    \"\"\"\n",
    "        \n",
    "    cursor = conn.cursor()\n",
    "    query = \"\"\"\n",
    "            select * from information_schema.tables \n",
    "            where table_name=\\'{matrix_name}\\';\n",
    "            \"\"\".format(matrix_name=matrix_name)\n",
    "    cursor.execute(query)\n",
    "    \n",
    "    if not(cursor.rowcount) or overwrite:\n",
    "\n",
    "        sql_script=\"\"\"\n",
    "drop table class1.{matrix_name};\n",
    "commit;\n",
    "create table class1.{matrix_name} as \n",
    "select f1.*, r.recidivism from {feature_table_name} f1\n",
    "join class1.{labels_table_name} r on f1.docnbr = r.docnbr; \n",
    "commit; \n",
    "\n",
    "    \"\"\".format(matrix_name=matrix_name,feature_table_name=feature_table_name, \n",
    "               labels_table_name = labels_table_name)\n",
    "    \n",
    "    \n",
    "        cursor.execute(sql_script)\n",
    "    \n",
    "    cursor.close()\n",
    "    \n",
    "    print('created class1.{matrix_name}'.format(\n",
    "        matrix_name=matrix_name))\n",
    "    \n",
    "      \n"
   ]
  },
  {
   "cell_type": "code",
   "execution_count": null,
   "metadata": {
    "collapsed": true
   },
   "outputs": [],
   "source": [
    "create_train_or_test_matrix(train_feature_table, 'recidivism_labels_2006_2011', 'train_matrix_2006', conn)\n",
    "create_train_or_test_matrix(test_feature_table, 'recidivism_labels_2011_2016', 'test_matrix_2011', conn, overwrite=True)\n"
   ]
  },
  {
   "cell_type": "code",
   "execution_count": null,
   "metadata": {
    "collapsed": true
   },
   "outputs": [],
   "source": [
    "df_training = pd.read_sql('select * from class1.train_matrix_2006', conn)\n",
    "df_testing = pd.read_sql('select * from class1.test_matrix_2011', conn)"
   ]
  },
  {
   "cell_type": "code",
   "execution_count": null,
   "metadata": {
    "collapsed": true
   },
   "outputs": [],
   "source": [
    "df_training.head()"
   ]
  },
  {
   "cell_type": "code",
   "execution_count": null,
   "metadata": {
    "collapsed": true
   },
   "outputs": [],
   "source": [
    "df_testing.head()"
   ]
  },
  {
   "cell_type": "code",
   "execution_count": null,
   "metadata": {
    "collapsed": true
   },
   "outputs": [],
   "source": [
    "isnan_training_rows = df_training.isnull().any(axis=1) # Find the rows where there are NaNs"
   ]
  },
  {
   "cell_type": "code",
   "execution_count": null,
   "metadata": {
    "collapsed": true
   },
   "outputs": [],
   "source": [
    "df_training[isnan_training_rows].head()"
   ]
  },
  {
   "cell_type": "markdown",
   "metadata": {},
   "source": [
    "There are a number of `NaNs` in the `age_first_admit` and `age` field due to there being no `birth_yr` value in the `Person` table. Let's see how much of the data is missing these values. "
   ]
  },
  {
   "cell_type": "code",
   "execution_count": null,
   "metadata": {
    "collapsed": true
   },
   "outputs": [],
   "source": [
    "nrows_training = df_training.shape[0]\n",
    "nrows_training_isnan = df_training[isnan_training_rows].shape[0]"
   ]
  },
  {
   "cell_type": "code",
   "execution_count": null,
   "metadata": {
    "collapsed": true
   },
   "outputs": [],
   "source": [
    "print('%of frows with NaNs {} '.format(float(nrows_training_isnan)/nrows_training))"
   ]
  },
  {
   "cell_type": "markdown",
   "metadata": {},
   "source": [
    "3% of our datset is not too bad, we can just drop these rows and still have plenty of data. As long as we believe that these values are *missing at random*, i.e., we think that the missing `age_first_admit` is due to a data or clerical error and not because people who are more likely to reoffend are more likely to have missing values of `age_first_admit`, it's OK to drop these rows. In other situations we can \"impute\" the missing data (i.e, fill in the blanks in a principled and statistically sound way).   "
   ]
  },
  {
   "cell_type": "code",
   "execution_count": null,
   "metadata": {
    "collapsed": true
   },
   "outputs": [],
   "source": [
    "df_training = df_training[~isnan_training_rows]"
   ]
  },
  {
   "cell_type": "markdown",
   "metadata": {},
   "source": [
    "Let's check the values of the ages at first admit are reasonable."
   ]
  },
  {
   "cell_type": "code",
   "execution_count": null,
   "metadata": {
    "collapsed": true
   },
   "outputs": [],
   "source": [
    "np.unique( df_training['age_first_admit'] )"
   ]
  },
  {
   "cell_type": "markdown",
   "metadata": {},
   "source": [
    "Aha! It is unlikely there are one-year-old infants being booked into jail! This is likely due to an incorrect entry in the `birth_yr` in the `Person` table. On the other end of the age spectrum, the ages are more likely to be correct, but this is still something that you'd want to do a \"sanity check\" on with someone who knows the data well.\n",
    "\n",
    "Let's drop any rows that have age 1.  "
   ]
  },
  {
   "cell_type": "code",
   "execution_count": null,
   "metadata": {
    "collapsed": true
   },
   "outputs": [],
   "source": [
    "mask = ~(df_training['age_first_admit'] == 1)\n",
    "df_training = df_training[mask]"
   ]
  },
  {
   "cell_type": "markdown",
   "metadata": {},
   "source": [
    "Let's check how much data we still have and how many examples of recidivism are in our training dataset. We don't necessarily need to have a perfect balance of recidivists and non-recivists, but it's good to know what the \"baseline\" is in our dataset."
   ]
  },
  {
   "cell_type": "code",
   "execution_count": null,
   "metadata": {
    "collapsed": true
   },
   "outputs": [],
   "source": [
    "print('Number of rows: {}'.format(df_training.shape[0]))\n",
    "df_training['recidivism'].value_counts(normalize=True)"
   ]
  },
  {
   "cell_type": "markdown",
   "metadata": {},
   "source": [
    "We have about ##### examples, and about ###% of those are *positive* examples (recidivist), which is what we're trying to identify. About ##% of the examples are *negative* examples (non-recidivst)."
   ]
  },
  {
   "cell_type": "markdown",
   "metadata": {},
   "source": [
    "Let's take a look at our testing set. "
   ]
  },
  {
   "cell_type": "code",
   "execution_count": null,
   "metadata": {
    "collapsed": true
   },
   "outputs": [],
   "source": [
    "df_testing.head()"
   ]
  },
  {
   "cell_type": "code",
   "execution_count": null,
   "metadata": {
    "collapsed": true
   },
   "outputs": [],
   "source": [
    "isnan_testing_rows = df_testing.isnull().any(axis=1) # Find the rows where there are NaNs\n",
    "nrows_testing = df_testing.shape[0]\n",
    "nrows_testing_isnan = df_testing[isnan_testing_rows].shape[0]\n",
    "print('%of rows with NaNs {} '.format(float(nrows_testing_isnan)/nrows_testing))"
   ]
  },
  {
   "cell_type": "markdown",
   "metadata": {},
   "source": [
    "We see that about 2% of the rows in our testing set have missing values. This matches what we'd expect based on what we saw in the training set."
   ]
  },
  {
   "cell_type": "code",
   "execution_count": null,
   "metadata": {
    "collapsed": true
   },
   "outputs": [],
   "source": [
    "df_testing[isnan_testing_rows].head()"
   ]
  },
  {
   "cell_type": "code",
   "execution_count": null,
   "metadata": {
    "collapsed": true
   },
   "outputs": [],
   "source": [
    "# not a good idea to do in practice so we would impute in some way\n",
    "df_testing = df_testing[~isnan_testing_rows]"
   ]
  },
  {
   "cell_type": "code",
   "execution_count": null,
   "metadata": {
    "collapsed": true
   },
   "outputs": [],
   "source": [
    "mask = ~(df_testing['age_first_admit'] == 1)\n",
    "df_testing = df_testing[mask]"
   ]
  },
  {
   "cell_type": "code",
   "execution_count": null,
   "metadata": {
    "collapsed": true
   },
   "outputs": [],
   "source": [
    "df_testing.head()"
   ]
  },
  {
   "cell_type": "code",
   "execution_count": null,
   "metadata": {
    "collapsed": true
   },
   "outputs": [],
   "source": [
    "print('Number of rows: {}'.format(df_testing.shape[0]))\n",
    "df_testing['recidivism'].value_counts(normalize=True)"
   ]
  },
  {
   "cell_type": "markdown",
   "metadata": {},
   "source": [
    "### Split into features and labels"
   ]
  },
  {
   "cell_type": "code",
   "execution_count": null,
   "metadata": {
    "collapsed": true
   },
   "outputs": [],
   "source": [
    "sel_features = ['nadmits', 'age_first_admit', 'gang', 'kids', 'married', 'job', 'vetf',\n",
    "               'drugalcf', 'drugcocf', 'drugampf', 'drugmarf', 'drugherf', 'drugpcpf',\n",
    "               'drugothf', 'drugunkf', 'educlvl', 'crtfind', 'age']\n",
    "sel_label = 'recidivism'"
   ]
  },
  {
   "cell_type": "code",
   "execution_count": null,
   "metadata": {
    "collapsed": true
   },
   "outputs": [],
   "source": [
    "# use conventions typically used in python scikitlearn\n",
    "\n",
    "X_train = df_training[sel_features].values\n",
    "y_train = df_training[sel_label].values\n",
    "X_test = df_testing[sel_features].values\n",
    "y_test = df_testing[sel_label].values"
   ]
  },
  {
   "cell_type": "markdown",
   "metadata": {},
   "source": [
    "# Model Selection"
   ]
  },
  {
   "cell_type": "markdown",
   "metadata": {},
   "source": [
    "## Model Evaluation \n",
    "*[Go back to Table of Contents](#table-of-contents)*\n",
    "\n",
    "In this phase, you take the predictors from your test set and apply your model to them, then assess the quality of the model by comparing the *predicted values* to the *actual values* for each record in your testing data set. \n",
    "\n",
    "- **Performance Estimation**: How well will our model do once it is deployed and applied to new data?\n",
    "\n",
    "Now let's use the model we just fit to make predictions on our test dataset, and see what our accuracy score is:"
   ]
  },
  {
   "cell_type": "markdown",
   "metadata": {},
   "source": [
    "Python's [`scikit-learn`](http://scikit-learn.org/stable/) is a commonly used, well documented Python library for machine learning. This library can help you split your data into training and test sets, fit models and use them to predict results on new data, and evaluate your results.\n",
    "\n",
    "We will start with the simplest [`LogisticRegression`](http://scikit-learn.org/stable/modules/generated/sklearn.linear_model.LogisticRegression.html) model and see how well that does.\n",
    "\n",
    "You can use any number of metrics to judge your models (see [model evaluation](#model-evaluation)), but we'll use [`accuracy_score()`](http://scikit-learn.org/stable/modules/generated/sklearn.metrics.accuracy_score.html) (ratio of correct predictions to total number of predictions) as our measure."
   ]
  },
  {
   "cell_type": "code",
   "execution_count": null,
   "metadata": {
    "collapsed": true
   },
   "outputs": [],
   "source": [
    "# Let's fit a model\n",
    "from sklearn import linear_model\n",
    "model = linear_model.LogisticRegression(penalty='l1', C=1e5)\n",
    "model.fit( X_train, y_train )\n",
    "print(model)"
   ]
  },
  {
   "cell_type": "markdown",
   "metadata": {},
   "source": [
    "When we print the model results, we see different parameters we can adjust as we refine the model based on running it against test data (values such as `intercept_scaling`, `max_iters`, `penalty`, and `solver`).  Example output:\n",
    "\n",
    "    LogisticRegression(C=1.0, class_weight=None, dual=False, fit_intercept=True,\n",
    "          intercept_scaling=1, max_iter=100, multi_class='ovr',\n",
    "          penalty='l2', random_state=None, solver='liblinear', tol=0.0001,\n",
    "          verbose=0)\n",
    "\n",
    "To adjust these parameters, one would alter the call that creates the `LogisticRegression()` model instance, passing it one or more of these parameters with a value other than the default.  So, to re-fit the model with `max_iter` of 1000, `intercept_scaling` of 2, and `solver` of \"lbfgs\" (pulled from thin air as an example), you'd create your model as follows:\n",
    "\n",
    "    model = LogisticRegression( max_iter = 1000, intercept_scaling = 2, solver = \"lbfgs\" )\n",
    "\n",
    "The basic way to choose values for, or \"tune,\" these parameters is the same as the way you choose a model: fit the model to your training data with a variety of parameters, and see which perform the best on the test set. An obvious drawback is that you can also *overfit* to your test set; in this case, you can alter your method of cross-validation.\n",
    "\n"
   ]
  },
  {
   "cell_type": "markdown",
   "metadata": {},
   "source": [
    "# Model Evaluation \n",
    "\n",
    "Machine learning models usually do not produce a prediction (0 or 1) directly. Rather, models produce a score (that can sometimes be interpreted a a probabilty) between 0 and 1, which lets you more finely rank all of the examples from *most likely* to *least likely* to have label 1 (positive). This score is then turned into a 0 or 1 based on a user-specified threshold. For example, you might label all examples that have a score greater than 0.5 (1/2) as positive (1), but there's no reason that has to be the cutoff. "
   ]
  },
  {
   "cell_type": "code",
   "execution_count": null,
   "metadata": {
    "collapsed": true
   },
   "outputs": [],
   "source": [
    "#  from our \"predictors\" using the model.\n",
    "y_scores = model.predict_proba(X_test)[:,1]"
   ]
  },
  {
   "cell_type": "code",
   "execution_count": null,
   "metadata": {
    "collapsed": true
   },
   "outputs": [],
   "source": [
    "y_scores"
   ]
  },
  {
   "cell_type": "markdown",
   "metadata": {},
   "source": [
    "Let's take a look at the distribution of scores and see if it makes sense to us. "
   ]
  },
  {
   "cell_type": "code",
   "execution_count": null,
   "metadata": {
    "collapsed": true
   },
   "outputs": [],
   "source": [
    "sns.distplot(y_scores, kde=False, rug=False)"
   ]
  },
  {
   "cell_type": "markdown",
   "metadata": {},
   "source": [
    "Our distribution of scores is skewed, with the majority of scores on the lower end of the scale. We expect this because ##% of the data is made up of nonrecidivists, so we'd guess that a higher proportion of the examples in the test set will be negative (meaning they should have lower scores). "
   ]
  },
  {
   "cell_type": "code",
   "execution_count": null,
   "metadata": {
    "collapsed": true
   },
   "outputs": [],
   "source": [
    "df_testing['y_score'] = y_scores"
   ]
  },
  {
   "cell_type": "code",
   "execution_count": null,
   "metadata": {
    "collapsed": true
   },
   "outputs": [],
   "source": [
    "df_testing[['docnbr', 'y_score']].head()"
   ]
  },
  {
   "cell_type": "markdown",
   "metadata": {},
   "source": [
    "Tools like `sklearn` often have a default threshold of 0.5, but a good threshold is selected based on the data, model and the specific problem you are solving. As a trial run, let's set a threshold of 0.5. "
   ]
  },
  {
   "cell_type": "code",
   "execution_count": null,
   "metadata": {
    "collapsed": true
   },
   "outputs": [],
   "source": [
    "calc_threshold = lambda x,y: 0 if x < y else 1 \n",
    "predicted = np.array( [calc_threshold(score,0.5) for score in y_scores] )\n",
    "expected = y_test"
   ]
  },
  {
   "cell_type": "markdown",
   "metadata": {},
   "source": [
    "## Confusion Matrix\n",
    "\n",
    "Once we have tuned our scores to 0 or 1 for classification, we create a *confusion matrix*, which  has four cells: true negatives, true positives, false negatives, and false positives. Each data point belongs in one of these cells, because it has both a ground truth and a predicted label. If an example was predicted to be negative and is negative, it's a true negative. If an example was predicted to be positive and is positive, it's a true positive. If an example was predicted to be negative and is positive, it's a false negative. If an example was predicted to be positive and is negative, it's a false negative."
   ]
  },
  {
   "cell_type": "code",
   "execution_count": null,
   "metadata": {
    "collapsed": true
   },
   "outputs": [],
   "source": [
    "from sklearn.metrics import confusion_matrix\n",
    "conf_matrix = confusion_matrix(expected,predicted)\n",
    "print conf_matrix"
   ]
  },
  {
   "cell_type": "markdown",
   "metadata": {},
   "source": [
    "The count of true negatives is `conf_matrix[0,0]`, false negatives `conf_matrix[1,0]`, true positives `conf_matrix[1,1]`, and false_positives `conf_matrix[0,1]`."
   ]
  },
  {
   "cell_type": "markdown",
   "metadata": {},
   "source": [
    "Accuracy is the ratio of the correct predictions (both positive and negative) to all predictions. \n",
    "$$ Accuracy = \\frac{TP+TN}{TP+TN+FP+FN} $$"
   ]
  },
  {
   "cell_type": "code",
   "execution_count": null,
   "metadata": {
    "collapsed": true
   },
   "outputs": [],
   "source": [
    "# generate an accuracy score by comparing expected to predicted.\n",
    "from sklearn.metrics import accuracy_score\n",
    "accuracy = accuracy_score(expected, predicted)\n",
    "print( \"Accuracy = \" + str( accuracy ) )"
   ]
  },
  {
   "cell_type": "markdown",
   "metadata": {},
   "source": [
    "We get an accuracy score of 81%. Recall that our testing dataset had XX% non-recidivists and YY% recidivists. If we had just labeled all the examples as negative and guessed non-recidivist every time, we would have had an accuracy of XX%, so our basic model is not doing much better than a \"dumb classifier.\" That's ok, because we're just getting started!\n",
    "\n"
   ]
  },
  {
   "cell_type": "markdown",
   "metadata": {},
   "source": [
    "Two additional metrics that are often used are **precision** and **recall**. \n",
    "\n",
    "Precision measures the accuracy of the classifier when it predicts an example to be positive. It is the ratio of correctly predicted positive examples to examples predicted to be positive. \n",
    "\n",
    "$$ Precision = \\frac{TP}{TP+FN}$$\n",
    "\n",
    "Recall measures the accuracy of the classifier to find positive examples in the data. \n",
    "\n",
    "$$ Recall = \\frac{TP}{TP+FN} $$\n",
    "\n",
    "By selecting different thresholds we can vary and tune the precision and recall of a given classifier. A conservative classifier (threshold 0.99) will classify a case as 1 only when it is *very sure*, leading to high precision. On the other end of the spectrum, a low threshold (e.g. 0.01) will lead to higher recall. "
   ]
  },
  {
   "cell_type": "code",
   "execution_count": null,
   "metadata": {
    "collapsed": true
   },
   "outputs": [],
   "source": [
    "from sklearn.metrics import precision_score, recall_score\n",
    "precision = precision_score(expected, predicted)\n",
    "recall = recall_score(expected, predicted)\n",
    "print( \"Precision = \" + str( precision ) )\n",
    "print( \"Recall= \" + str(recall))"
   ]
  },
  {
   "cell_type": "markdown",
   "metadata": {},
   "source": [
    "If we care about our whole precision-recall space, we can optimize for a metric known as the **area under the curve (AUC-PR)**, which is the area under the precision-recall curve. The maximum AUC-PR is 1. "
   ]
  },
  {
   "cell_type": "code",
   "execution_count": null,
   "metadata": {
    "collapsed": true
   },
   "outputs": [],
   "source": [
    "def plot_precision_recall(y_true,y_score):\n",
    "    \"\"\"\n",
    "    Plot a precision recall curve\n",
    "    \n",
    "    Parameters\n",
    "    ----------\n",
    "    y_true: ls\n",
    "        ground truth labels\n",
    "    y_score: ls\n",
    "        score output from model\n",
    "    \"\"\"\n",
    "    precision_curve, recall_curve, pr_thresholds = precision_recall_curve(y_true,y_score)\n",
    "    plt.plot(recall_curve, precision_curve)\n",
    "    plt.xlabel('Recall')\n",
    "    plt.ylabel('Precision')\n",
    "    auc_val = auc(recall_curve,precision_curve)\n",
    "    print('AUC-PR: {0:1f}'.format(auc_val))\n",
    "    plt.show()\n",
    "    plt.clf()"
   ]
  },
  {
   "cell_type": "code",
   "execution_count": null,
   "metadata": {
    "collapsed": true
   },
   "outputs": [],
   "source": [
    "plot_precision_recall(expected, y_scores)"
   ]
  },
  {
   "cell_type": "markdown",
   "metadata": {},
   "source": [
    "## Precision and Recall at k%\n",
    "\n",
    "If we only care about a specific part of the precision-recall curve we can focus on more fine-grained metrics. For instance, say there is a special program for people likely to be recidivists, but only 5% can be admitted. In that case, we would want to prioritize the ##% who were *most likely* to end up back in jail, and it wouldn't matter too much how accurate we were on the ##% or so who weren't very likely to end up back in jail. \n",
    "\n",
    "Let's say that, out of the approximately #### prisoners, we can intervene on ###% of them, or the \"top\" 10,000 prisoners (where \"top\" means highest risk of recidivism). We can then focus on optimizing our **precision at 5%**."
   ]
  },
  {
   "cell_type": "code",
   "execution_count": null,
   "metadata": {
    "collapsed": true
   },
   "outputs": [],
   "source": [
    "def plot_precision_recall_n(y_true, y_prob, model_name):\n",
    "    \"\"\"\n",
    "    y_true: ls\n",
    "        ls of ground truth labels\n",
    "    y_prob: ls\n",
    "        ls of predic proba from model\n",
    "    model_name: str\n",
    "        str of model name (e.g, LR_123)\n",
    "    \"\"\"\n",
    "    from sklearn.metrics import precision_recall_curve\n",
    "    y_score = y_prob\n",
    "    precision_curve, recall_curve, pr_thresholds = precision_recall_curve(y_true, y_score)\n",
    "    precision_curve = precision_curve[:-1]\n",
    "    recall_curve = recall_curve[:-1]\n",
    "    pct_above_per_thresh = []\n",
    "    number_scored = len(y_score)\n",
    "    for value in pr_thresholds:\n",
    "        num_above_thresh = len(y_score[y_score>=value])\n",
    "        pct_above_thresh = num_above_thresh / float(number_scored)\n",
    "        pct_above_per_thresh.append(pct_above_thresh)\n",
    "    pct_above_per_thresh = np.array(pct_above_per_thresh)\n",
    "    plt.clf()\n",
    "    fig, ax1 = plt.subplots()\n",
    "    ax1.plot(pct_above_per_thresh, precision_curve, 'b')\n",
    "    ax1.set_xlabel('percent of population')\n",
    "    ax1.set_ylabel('precision', color='b')\n",
    "    ax1.set_ylim(0,1.05)\n",
    "    ax2 = ax1.twinx()\n",
    "    ax2.plot(pct_above_per_thresh, recall_curve, 'r')\n",
    "    ax2.set_ylabel('recall', color='r')\n",
    "    ax2.set_ylim(0,1.05)\n",
    "    \n",
    "    name = model_name\n",
    "    plt.title(name)\n",
    "    plt.show()\n",
    "    plt.clf()"
   ]
  },
  {
   "cell_type": "code",
   "execution_count": null,
   "metadata": {
    "collapsed": true
   },
   "outputs": [],
   "source": [
    "def precision_at_k(y_true, y_scores,k):\n",
    "    \n",
    "    threshold = np.sort(y_scores)[::-1][int(k*len(y_scores))]\n",
    "    y_pred = np.asarray([1 if i >= threshold else 0 for i in y_scores ])\n",
    "    return precision_score(y_true, y_pred)"
   ]
  },
  {
   "cell_type": "code",
   "execution_count": null,
   "metadata": {
    "collapsed": true
   },
   "outputs": [],
   "source": [
    "plot_precision_recall_n(expected,y_scores, 'LR')"
   ]
  },
  {
   "cell_type": "code",
   "execution_count": null,
   "metadata": {
    "collapsed": true
   },
   "outputs": [],
   "source": [
    "p_at_5 = precision_at_k(expected,y_scores, 0.05)\n",
    "print('Precision at 5%: {:.2f}'.format(p_at_5))"
   ]
  },
  {
   "cell_type": "markdown",
   "metadata": {},
   "source": [
    "## Machine Learning Pipeline\n",
    "*[Go back to Table of Contents](#table-of-contents)*\n",
    "\n",
    "When working on machine learning projects, it is a good idea to structure your code as a modular **pipeline**, which contains all of the steps of your analysis, from the original data source to the results that you report, along with documentation. This has many advantages:\n",
    "- **Reproducibility**. It's important that your work be reproducible. This means that someone else should be able\n",
    "to see what you did, follow the exact same process, and come up with the exact same results. It also means that\n",
    "someone else can follow the steps you took and see what decisions you made, whether that person is a collaborator, \n",
    "a reviewer for a journal, or the agency you are working with. \n",
    "- **Ease of model evaluation and comparison**.\n",
    "- **Ability to make changes.** If you receive new data and want to go through the process again, or if there are \n",
    "updates to the data you used, you can easily substitute new data and reproduce the process without starting from scratch."
   ]
  },
  {
   "cell_type": "markdown",
   "metadata": {},
   "source": [
    "# Exercise 2\n",
    "*[Go back to Table of Contents](#table-of-contents)*\n",
    "\n",
    "We have only scratched the surface of what we can do with our model. We've only tried one classifier (Logistic Regression), and there are plenty more classification algorithms in `sklearn`. Let's try them! \n"
   ]
  },
  {
   "cell_type": "code",
   "execution_count": null,
   "metadata": {
    "collapsed": true
   },
   "outputs": [],
   "source": [
    "clfs = {'RF': RandomForestClassifier(n_estimators=50, n_jobs=-1),\n",
    "       'ET': ExtraTreesClassifier(n_estimators=10, n_jobs=-1, criterion='entropy'),\n",
    "        'LR': LogisticRegression(penalty='l1', C=1e5),\n",
    "        'SGD':SGDClassifier(loss='log'),\n",
    "        'GB': GradientBoostingClassifier(learning_rate=0.05, subsample=0.5, max_depth=6, n_estimators=10),\n",
    "        'NB': GaussianNB()}"
   ]
  },
  {
   "cell_type": "code",
   "execution_count": null,
   "metadata": {
    "collapsed": true
   },
   "outputs": [],
   "source": [
    "sel_clfs = ['RF', 'ET', 'LR', 'SGD', 'GB', 'NB']"
   ]
  },
  {
   "cell_type": "code",
   "execution_count": null,
   "metadata": {
    "collapsed": true,
    "scrolled": false
   },
   "outputs": [],
   "source": [
    "max_p_at_k = 0\n",
    "for clfNM in sel_clfs:\n",
    "    clf = clfs[clfNM]\n",
    "    clf.fit( X_train, y_train )\n",
    "    print clf\n",
    "    y_score = clf.predict_proba(X_test)[:,1]\n",
    "    predicted = np.array(y_score)\n",
    "    expected = np.array(y_test)\n",
    "    plot_precision_recall_n(expected,predicted, clfNM)\n",
    "    p_at_5 = precision_at_k(expected,y_score, 0.05)\n",
    "    if max_p_at_k < p_at_5:\n",
    "        max_p_at_k = p_at_5\n",
    "    print('Precision at 5%: {:.2f}'.format(p_at_5))"
   ]
  },
  {
   "cell_type": "markdown",
   "metadata": {},
   "source": [
    "# Baseline \n",
    "\n",
    "It is important to check our model against a reasonable **baseline** to know how well our model is doing. Without any context, 83% accuracy can sound really great... but it's not so great when you remember that you could do almost that well by declaring everyone a non-recividist, which would be stupid (not to mention useless) model. \n",
    "\n",
    "A good place to start is checking against a *random* baseline, assigning every example a label (positive or negative) completely at random. "
   ]
  },
  {
   "cell_type": "code",
   "execution_count": null,
   "metadata": {
    "collapsed": true
   },
   "outputs": [],
   "source": [
    "max_p_at_k"
   ]
  },
  {
   "cell_type": "code",
   "execution_count": null,
   "metadata": {
    "collapsed": true
   },
   "outputs": [],
   "source": [
    "random_score = [random.uniform(0,1) for i in enumerate(y_test)] \n",
    "random_predicted = np.array( [calc_threshold(score,0.5) for score in random_score] )\n",
    "random_p_at_5 = precision_at_k(expected,random_predicted, 0.05)"
   ]
  },
  {
   "cell_type": "markdown",
   "metadata": {},
   "source": [
    "Another good practice is checking against an \"expert\" or rule of thumb baseline. For example, say that talking to people at the DOC, you find that they think it's much more likely that someone who has been in prison multiple times already will reoffend. Then you should check that your classifier does better than just labeling everyone who has had multiple past admits as positive."
   ]
  },
  {
   "cell_type": "code",
   "execution_count": null,
   "metadata": {
    "collapsed": true
   },
   "outputs": [],
   "source": [
    "recidivism_predicted = np.array([ 1 if nadmit > 1 else 0 for nadmit in df_testing.nadmits.values ])\n",
    "recidivism_p_at_5 = precision_at_k(expected,recidivism_predicted,0.05)"
   ]
  },
  {
   "cell_type": "code",
   "execution_count": null,
   "metadata": {
    "collapsed": true
   },
   "outputs": [],
   "source": [
    "all_non_recidivist = np.array([0 for nadmit in df_testing.nadmits.values])\n",
    "all_non_recidivist_p_at_5 = precision_at_k(expected, all_non_recidivist,0.05)"
   ]
  },
  {
   "cell_type": "code",
   "execution_count": null,
   "metadata": {
    "collapsed": true
   },
   "outputs": [],
   "source": [
    "sns.set_style(\"whitegrid\")\n",
    "fig, ax = plt.subplots(1, figsize=(22,12))\n",
    "sns.set_context(\"poster\", font_scale=2.25, rc={\"lines.linewidth\":2.25, \"lines.markersize\":8})\n",
    "sns.barplot(['Random','All Non-Recidivist', 'Recidivism','Model'],\n",
    "            [random_p_at_5, all_non_recidivist_p_at_5, recidivism_p_at_5, max_p_at_k],\n",
    "            palette=['#6F777D','#6F777D','#6F777D','#800000'])\n",
    "plt.ylim(0,1)\n",
    "plt.ylabel('precision at 5%')"
   ]
  },
  {
   "cell_type": "markdown",
   "metadata": {},
   "source": [
    "# Exercise \n",
    "\n",
    "Our model has just scratched the surface. Try the following: \n",
    "    \n",
    "- Create more features\n",
    "- Try more models\n",
    "- Try different parameters for your model"
   ]
  },
  {
   "cell_type": "markdown",
   "metadata": {},
   "source": [
    "## Resources\n",
    "*[Go back to Table of Contents](#table-of-contents)*\n",
    "\n",
    "- Hastie et al.'s [The Elements of Statistical Learning](http://statweb.stanford.edu/~tibs/ElemStatLearn/) is a classic and is available online for free.\n",
    "- James et al.'s [An Introduction to Statistical Learning](http://www-bcf.usc.edu/~gareth/ISL/), also available online, includes less mathematics and is more approachable.\n",
    "- Wu et al.'s [Top 10 Algorithms in Data Mining](http://www.cs.uvm.edu/~icdm/algorithms/10Algorithms-08.pdf)."
   ]
  }
 ],
 "metadata": {
  "anaconda-cloud": {},
  "kernelspec": {
   "display_name": "Python 2",
   "language": "python",
   "name": "python2"
  },
  "language_info": {
   "codemirror_mode": {
    "name": "ipython",
    "version": 2
   },
   "file_extension": ".py",
   "mimetype": "text/x-python",
   "name": "python",
   "nbconvert_exporter": "python",
   "pygments_lexer": "ipython2",
   "version": "2.7.12"
  }
 },
 "nbformat": 4,
 "nbformat_minor": 1
}
